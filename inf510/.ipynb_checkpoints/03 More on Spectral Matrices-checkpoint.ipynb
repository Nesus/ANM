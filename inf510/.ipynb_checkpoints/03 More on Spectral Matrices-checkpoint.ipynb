{
 "cells": [
  {
   "cell_type": "markdown",
   "metadata": {},
   "source": [
    "# INF-510, v0.3, Claudio Torres, ctorres@inf.utfsm.cl. DI-UTFSM\n",
    "## Textbook: Lloyd N. Trefethen, Spectral Methods in MATLAB, SIAM, Philadelphia, 2000"
   ]
  },
  {
   "cell_type": "markdown",
   "metadata": {},
   "source": [
    "# More on Spectral Matrices"
   ]
  },
  {
   "cell_type": "code",
   "execution_count": null,
   "metadata": {
    "collapsed": true
   },
   "outputs": [],
   "source": [
    "import matplotlib.pyplot as plt\n",
    "%matplotlib inline\n",
    "import numpy as np\n",
    "import scipy.sparse.linalg as sp\n",
    "from sympy import *\n",
    "import sympy as sym\n",
    "from scipy.linalg import toeplitz\n",
    "# The variable M is used for changing the default size of the figures\n",
    "M=8\n",
    "import ipywidgets as widgets\n",
    "import matplotlib as mpl\n",
    "mpl.rcParams['font.size'] = 14\n",
    "mpl.rcParams['axes.labelsize'] = 20\n",
    "mpl.rcParams['xtick.labelsize'] = 14\n",
    "mpl.rcParams['ytick.labelsize'] = 14"
   ]
  },
  {
   "cell_type": "markdown",
   "metadata": {},
   "source": [
    "## \"The magical and beautiful sinc function\" by ?"
   ]
  },
  {
   "cell_type": "code",
   "execution_count": null,
   "metadata": {},
   "outputs": [],
   "source": [
    "def Sh(x,h):\n",
    "    if np.abs(x)<=1e-10:\n",
    "        return 1.0\n",
    "    else:\n",
    "        y=np.pi*x/h\n",
    "        return np.sin(y)/y\n",
    "Shv = np.vectorize(Sh) "
   ]
  },
  {
   "cell_type": "code",
   "execution_count": null,
   "metadata": {},
   "outputs": [],
   "source": [
    "N=10\n",
    "h=2/N\n",
    "x=np.linspace(-1,1,1e4)\n",
    "\n",
    "xx=np.linspace(-1,1,N+1)\n",
    "yy=np.zeros(N+1)\n",
    "yy[int(N/2)]=1\n",
    "\n",
    "plt.figure(figsize=(M,M))\n",
    "plt.plot(x,Shv(x,h),'-',linewidth=3)\n",
    "plt.plot(xx,yy,'kx',markersize=16,markeredgewidth=3)\n",
    "plt.grid(True)\n",
    "plt.title('$S_h(x)=\\sin(\\pi\\,x/h)/(\\pi\\,x/h)$',fontsize=20)\n",
    "plt.show()"
   ]
  },
  {
   "cell_type": "markdown",
   "metadata": {},
   "source": [
    "## Just interpolating a few functions"
   ]
  },
  {
   "cell_type": "code",
   "execution_count": null,
   "metadata": {
    "collapsed": true
   },
   "outputs": [],
   "source": [
    "def Interpolate_with_Sh(xx,h,N,yy,x):\n",
    "    out=np.zeros(x.shape[0])\n",
    "    for i in np.arange(N+1):\n",
    "        out+=yy[i]*Shv(x-xx[i],h)\n",
    "    return out"
   ]
  },
  {
   "cell_type": "code",
   "execution_count": null,
   "metadata": {},
   "outputs": [],
   "source": [
    "N=20\n",
    "h=2./N\n",
    "# Variable for plotting 'continuously'\n",
    "x=np.linspace(-1,1,1e4)\n",
    "# Creating the hZ mesh\n",
    "xx=np.linspace(-1,1,N+1)\n",
    "# Creating some grid functions\n",
    "yy1=1.*(np.abs(xx)<=0.3)\n",
    "yy2=(1.0-np.abs(xx)/0.3)*(1.*(1.0-np.abs(xx)/0.3>=0))"
   ]
  },
  {
   "cell_type": "code",
   "execution_count": null,
   "metadata": {},
   "outputs": [],
   "source": [
    "plt.figure(figsize=(M,M))\n",
    "\n",
    "plt.subplot(211)\n",
    "yy=yy1\n",
    "plt.plot(x,Interpolate_with_Sh(xx,h,N,yy,x),'-',linewidth=3)\n",
    "plt.plot(xx,yy,'kx',markersize=16,markeredgewidth=3)\n",
    "plt.grid(True)\n",
    "\n",
    "plt.subplot(212)\n",
    "yy=yy2\n",
    "plt.plot(x,Interpolate_with_Sh(xx,h,N,yy,x),'-',linewidth=3)\n",
    "plt.plot(xx,yy,'kx',markersize=16,markeredgewidth=3)\n",
    "plt.grid(True)\n",
    "plt.show()"
   ]
  },
  {
   "cell_type": "markdown",
   "metadata": {},
   "source": [
    "## Band limited interpolant"
   ]
  },
  {
   "cell_type": "code",
   "execution_count": null,
   "metadata": {},
   "outputs": [],
   "source": [
    "def ShBL(x,h):\n",
    "    # Why do I need to do this?\n",
    "    if np.abs(x)<=1e-10:\n",
    "        return 1.0+(-(1./12.)-np.pi**2/(6.*h**2))*x**2\n",
    "    elif np.abs(x-2*np.pi)<=1e-10:\n",
    "        return 1.0+(-(1./12.)-np.pi**2/(6.*h**2))*(x-2*np.pi)**2\n",
    "    else:\n",
    "        y=np.pi*x/h\n",
    "        return np.sin(y)/((2*np.pi/h)*np.tan(x/2))\n",
    "ShBLv = np.vectorize(ShBL)\n",
    "\n",
    "def Interpolate_with_ShBL(xx,h,N,yy,x):\n",
    "    out=np.zeros(x.shape[0])\n",
    "    for i in np.arange(N):\n",
    "        out+=yy[i]*ShBLv(x-xx[i],h)\n",
    "    return out"
   ]
  },
  {
   "cell_type": "code",
   "execution_count": null,
   "metadata": {},
   "outputs": [],
   "source": [
    "N=10\n",
    "h=2*np.pi/N\n",
    "x=np.linspace(0-h,2*np.pi+h,1e4)\n",
    "\n",
    "xx=np.linspace(0,2*np.pi,N+1)\n",
    "yy=np.zeros(N+1)\n",
    "yy[0]=1\n",
    "yy[-1]=1\n",
    "\n",
    "fig, ax = plt.subplots(figsize=(M,M))\n",
    "ax.plot(x,ShBLv(x,h),'-',linewidth=3)\n",
    "ax.plot(xx,yy,'kx',markersize=16,markeredgewidth=3)\n",
    "ax.grid(True)\n",
    "plt.xlim([0-h,2*np.pi+h])\n",
    "plt.ylim([-0.4,1.2])\n",
    "plt.title('$S_h(x) = \\sin(\\pi\\,x/h)/((2\\,\\pi/h)\\,\\\\tan(x/2))$',fontsize=20)\n",
    "ax.fill_between(x, -0.4, 1.2, where=(x < 0.0), facecolor='green', alpha=0.5)\n",
    "ax.fill_between(x, -0.4, 1.2, where=(x > 2*np.pi), facecolor='green', alpha=0.5)\n",
    "plt.show()"
   ]
  },
  {
   "cell_type": "code",
   "execution_count": null,
   "metadata": {
    "collapsed": true
   },
   "outputs": [],
   "source": [
    "def my_D_spec(N):\n",
    "    h=(2./N)*np.pi\n",
    "    c=np.zeros(N)\n",
    "    j=np.arange(1,N)\n",
    "    c[1:]=0.5*((-1)**j)*(np.tan(j*h/2.)**(-1))\n",
    "    r=np.zeros(N)\n",
    "    r[0]=c[0]\n",
    "    r[1:]=c[-1:0:-1]\n",
    "    D=np.pi*toeplitz(c,r=r)\n",
    "    return D\n",
    "\n",
    "# This is almost the same as the previous notebook but with a 2*np.pi coefficient removed (Why?!).\n",
    "def my_D_spec_2pi(N):\n",
    "    h=(2./N)*np.pi\n",
    "    c=np.zeros(N)\n",
    "    j=np.arange(1,N)\n",
    "    c[1:]=0.5*((-1)**j)*(np.tan(j*h/2.)**(-1))\n",
    "    r=np.zeros(N)\n",
    "    r[0]=c[0]\n",
    "    r[1:]=c[-1:0:-1]\n",
    "    D=toeplitz(c,r=r)\n",
    "    return D"
   ]
  },
  {
   "cell_type": "markdown",
   "metadata": {},
   "source": [
    "## Spectral derivative again"
   ]
  },
  {
   "cell_type": "code",
   "execution_count": null,
   "metadata": {},
   "outputs": [],
   "source": [
    "N=24\n",
    "h=2.*np.pi/N\n",
    "# Variable for plotting 'continuously'\n",
    "x=np.linspace(0,2*np.pi,1e4)\n",
    "# Creating the hZ mesh\n",
    "xx=np.linspace(0,2*np.pi,N+1)[1:]\n",
    "# Creating the grid functions\n",
    "yy0=1.0-np.abs(xx-np.pi)/2\n",
    "yy1=(yy0)*(1.*(yy0>=0))\n",
    "yy2=np.exp(np.sin(xx))\n",
    "\n",
    "D=my_D_spec_2pi(N)\n",
    "\n",
    "plt.figure(figsize=(M,M))\n",
    "\n",
    "plt.subplot(221)\n",
    "yy=yy1\n",
    "plt.plot(x,Interpolate_with_ShBL(xx,h,N,yy,x),'-',linewidth=3)\n",
    "plt.plot(xx,yy,'kx',markersize=16,markeredgewidth=3)\n",
    "plt.grid(True)\n",
    "\n",
    "plt.subplot(222)\n",
    "plt.plot(xx,np.dot(D,yy),'kx-',markersize=16,markeredgewidth=3,linewidth=3)\n",
    "plt.grid(True)\n",
    "\n",
    "plt.subplot(223)\n",
    "yy=yy2\n",
    "plt.plot(x,Interpolate_with_ShBL(xx,h,N,yy,x),'-',linewidth=3)\n",
    "plt.plot(xx,yy,'kx',markersize=16,markeredgewidth=3)\n",
    "plt.grid(True)\n",
    "\n",
    "plt.subplot(224)\n",
    "plt.plot(xx,np.dot(D,yy),'kx-',markersize=16,markeredgewidth=3,linewidth=3)\n",
    "error_max=np.max(np.abs(yy*np.cos(xx)-np.dot(D,yy)))\n",
    "plt.title('max error='+str(error_max))\n",
    "plt.grid(True)\n",
    "\n",
    "plt.show()"
   ]
  },
  {
   "cell_type": "markdown",
   "metadata": {},
   "source": [
    "## Using FFT for the same task!"
   ]
  },
  {
   "cell_type": "code",
   "execution_count": null,
   "metadata": {},
   "outputs": [],
   "source": [
    "N=10\n",
    "K=np.fft.fftfreq(N)*N\n",
    "print(K)"
   ]
  },
  {
   "cell_type": "code",
   "execution_count": null,
   "metadata": {
    "collapsed": true
   },
   "outputs": [],
   "source": [
    "def my_first_implementation_of_derivative_with_FFT(yy,N):\n",
    "    # Frequencies of fft\n",
    "    K=np.fft.fftfreq(N)*N\n",
    "    # i*K\n",
    "    iK=1j*K\n",
    "    # FFT\n",
    "    v_hat = np.fft.fft(yy)\n",
    "    # The actual derivative in Fourier space!\n",
    "    w_hat = iK*v_hat\n",
    "    # Taking care of the loss of symmetry\n",
    "    w_hat[int(N/2)]=0\n",
    "    # Coming back to the physical space\n",
    "    ww    = np.real(np.fft.ifft(w_hat))"
   ]
  },
  {
   "cell_type": "code",
   "execution_count": null,
   "metadata": {},
   "outputs": [],
   "source": [
    "N=24\n",
    "h=2.*np.pi/N\n",
    "# Variable for plotting 'continuously'\n",
    "x=np.linspace(0,2*np.pi,1e4)\n",
    "# Creating the hZ mesh\n",
    "xx=np.linspace(2*np.pi/N,2*np.pi,N)\n",
    "# Creating the grid functions\n",
    "yy0=1.0-np.abs(xx-np.pi)/2\n",
    "yy1=(yy0)*(1.*(yy0>=0))\n",
    "yy2=np.exp(np.sin(xx))\n",
    "\n",
    "# Pre-computing the wave numbers in np.fft.fft\n",
    "# K=1j*np.hstack((np.arange(0,N/2+1), np.arange(-N/2+1,0)))\n",
    "K=np.fft.fftfreq(N)*N\n",
    "iK=1j*K\n",
    "\n",
    "plt.figure(figsize=(M,M))\n",
    "\n",
    "plt.subplot(221)\n",
    "yy=yy1\n",
    "plt.plot(x,Interpolate_with_ShBL(xx,h,N,yy,x),'-.')\n",
    "plt.plot(xx,yy,'kx',markersize=16,markeredgewidth=3)\n",
    "plt.grid(True)\n",
    "\n",
    "plt.subplot(222)\n",
    "# Begin derivative by DFT, i.e. FFT!\n",
    "v_hat = np.fft.fft(yy)\n",
    "w_hat = iK*v_hat\n",
    "w_hat[int(N/2)]=0\n",
    "ww    = np.real(np.fft.ifft(w_hat))\n",
    "# End derivative by DFT, i.e. FFT!\n",
    "plt.plot(xx,ww,'kx-',markersize=16,markeredgewidth=3)\n",
    "plt.grid(True)\n",
    "\n",
    "plt.subplot(223)\n",
    "yy=yy2\n",
    "plt.plot(x,Interpolate_with_ShBL(xx,h,N,yy,x),'-.')\n",
    "plt.plot(xx,yy,'kx',markersize=16,markeredgewidth=3)\n",
    "plt.grid(True)\n",
    "\n",
    "plt.subplot(224)\n",
    "# Begin derivative by DFT, i.e. FFT!\n",
    "v_hat = np.fft.fft(yy)\n",
    "w_hat = iK*v_hat\n",
    "w_hat[int(N/2)]=0\n",
    "ww    = np.real(np.fft.ifft(w_hat))\n",
    "# Begin derivative by DFT, i.e. FFT!\n",
    "plt.plot(xx,ww,'kx-',markersize=16,markeredgewidth=3)\n",
    "error_max=np.max(np.abs(yy*np.cos(xx)-ww))\n",
    "plt.title('max error='+str(error_max))\n",
    "plt.grid(True)\n",
    "\n",
    "plt.show()"
   ]
  },
  {
   "cell_type": "markdown",
   "metadata": {},
   "source": [
    "# Chebyshev differentiation matrix"
   ]
  },
  {
   "cell_type": "code",
   "execution_count": null,
   "metadata": {},
   "outputs": [],
   "source": [
    "def cheb(N):\n",
    "    if N==0:\n",
    "        D=0\n",
    "        x=1\n",
    "        return D,x\n",
    "    x = np.cos(np.pi*np.arange(N+1)/N)\n",
    "    c=np.hstack((2,np.ones(N-1),2))*((-1.)**np.arange(N+1))\n",
    "    X=np.tile(x,(N+1,1)).T\n",
    "    dX=X-X.T\n",
    "    D = np.outer(c,1./c)/(dX+np.eye(N+1))\n",
    "    D = D - np.diag(np.sum(D.T,axis=0))\n",
    "    return D,x\n",
    "def show_cheb(N):\n",
    "    D,x=cheb(N)\n",
    "    print(x)\n",
    "    print(D)\n",
    "widgets.interact(show_cheb,N=(0,10,1))"
   ]
  },
  {
   "cell_type": "markdown",
   "metadata": {},
   "source": [
    "## Chebyshev differentiation"
   ]
  },
  {
   "cell_type": "code",
   "execution_count": null,
   "metadata": {},
   "outputs": [],
   "source": [
    "# Variable for plotting 'continuously'\n",
    "x=np.linspace(-1,1,1e4)\n",
    "# The function we will be studying\n",
    "u= lambda x: np.exp(x)*np.sin(5*x)\n",
    "# We just computed the derivative by hand\n",
    "up= lambda x: np.exp(x)*(np.sin(5*x)+np.cos(5*x)*5)\n",
    "\n",
    "plt.figure(figsize=(2*M,2*M))\n",
    "\n",
    "N=10\n",
    "DCheb,xCheb=cheb(N)\n",
    "# Creating the grid functions\n",
    "yy=u(xCheb)\n",
    "\n",
    "plt.subplot(221)\n",
    "plt.plot(x,u(x),'-')\n",
    "plt.plot(xCheb,yy,'kx',markersize=16,markeredgewidth=3)\n",
    "plt.grid(True)\n",
    "\n",
    "plt.subplot(222)\n",
    "plt.plot(xCheb,np.dot(DCheb,yy)-up(xCheb),'kx-',markersize=16,markeredgewidth=3)\n",
    "error_max=np.max(np.abs(np.dot(DCheb,yy)-up(xCheb)))\n",
    "plt.title('max error='+str(error_max))\n",
    "plt.grid(True)\n",
    "\n",
    "N=20\n",
    "DCheb,xCheb=cheb(N)\n",
    "# Creating the grid functions\n",
    "yy=u(xCheb)\n",
    "\n",
    "plt.subplot(223)\n",
    "plt.plot(x,u(x),'-')\n",
    "plt.plot(xCheb,yy,'kx',markersize=16,markeredgewidth=3)\n",
    "plt.grid(True)\n",
    "\n",
    "plt.subplot(224)\n",
    "plt.plot(xCheb,np.dot(DCheb,yy)-up(xCheb),'kx-',markersize=16,markeredgewidth=3)\n",
    "error_max=np.max(np.abs(np.dot(DCheb,yy)-up(xCheb)))\n",
    "plt.title('max error='+str(error_max))\n",
    "plt.grid(True)\n",
    "\n",
    "plt.show()"
   ]
  },
  {
   "cell_type": "markdown",
   "metadata": {},
   "source": [
    "# In-class work"
   ]
  },
  {
   "cell_type": "markdown",
   "metadata": {},
   "source": [
    "## Implement Program 6, 7 and 12"
   ]
  },
  {
   "cell_type": "code",
   "execution_count": null,
   "metadata": {
    "collapsed": true
   },
   "outputs": [],
   "source": []
  }
 ],
 "metadata": {
  "anaconda-cloud": {},
  "kernelspec": {
   "display_name": "Python [default]",
   "language": "python",
   "name": "python3"
  },
  "language_info": {
   "codemirror_mode": {
    "name": "ipython",
    "version": 3
   },
   "file_extension": ".py",
   "mimetype": "text/x-python",
   "name": "python",
   "nbconvert_exporter": "python",
   "pygments_lexer": "ipython3",
   "version": "3.5.2"
  },
  "widgets": {
   "state": {
    "85c876dc39f042abaa5b08dfe1177c57": {
     "views": [
      {
       "cell_index": 21
      }
     ]
    }
   },
   "version": "1.2.0"
  }
 },
 "nbformat": 4,
 "nbformat_minor": 1
}

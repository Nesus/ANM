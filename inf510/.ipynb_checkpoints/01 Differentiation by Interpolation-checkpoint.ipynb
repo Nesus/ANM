{
 "cells": [
  {
   "cell_type": "markdown",
   "metadata": {},
   "source": [
    "# INF-510, v0.21, Claudio Torres, ctorres@inf.utfsm.cl. DI-UTFSM\n",
    "## Textbook: Lloyd N. Trefethen, Spectral Methods in MATLAB, SIAM, Philadelphia, 2000"
   ]
  },
  {
   "cell_type": "markdown",
   "metadata": {},
   "source": [
    "# Differentiation by Interpolation"
   ]
  },
  {
   "cell_type": "code",
   "execution_count": 31,
   "metadata": {},
   "outputs": [
    {
     "name": "stdout",
     "output_type": "stream",
     "text": [
      "IPython console for SymPy 1.0 (Python 3.5.2-64-bit) (ground types: python)\n"
     ]
    }
   ],
   "source": [
    "import matplotlib.pyplot as plt\n",
    "%matplotlib inline\n",
    "import numpy as np\n",
    "import scipy.sparse.linalg as sp\n",
    "import sympy as sym\n",
    "from scipy.linalg import toeplitz\n",
    "import ipywidgets as widgets\n",
    "import matplotlib as mpl\n",
    "\n",
    "from sympy import init_session,init_printing\n",
    "init_session(quiet=True)\n",
    "init_printing()\n",
    "\n",
    "mpl.rcParams['font.size'] = 14\n",
    "mpl.rcParams['axes.labelsize'] = 20\n",
    "mpl.rcParams['xtick.labelsize'] = 14\n",
    "mpl.rcParams['ytick.labelsize'] = 14"
   ]
  },
  {
   "cell_type": "markdown",
   "metadata": {},
   "source": [
    "Defining symbolic variables"
   ]
  },
  {
   "cell_type": "code",
   "execution_count": 32,
   "metadata": {},
   "outputs": [],
   "source": [
    "xj, h, x = sym.symbols('xj h x', reals=True)\n",
    "u1, u2, u3, u4, u5 = sym.symbols('u1 u2 u3 u4 u5', reals=True)"
   ]
  },
  {
   "cell_type": "markdown",
   "metadata": {},
   "source": [
    "\n",
    "## Do you remember Lagrange interpolation? Please do"
   ]
  },
  {
   "cell_type": "code",
   "execution_count": 33,
   "metadata": {
    "collapsed": true
   },
   "outputs": [],
   "source": [
    "# The little Lagrange polynomials\n",
    "def l_Lagrange(X,x,i):\n",
    "    l=1\n",
    "    n=len(X)\n",
    "    for k in np.arange(i):\n",
    "        l*=(x-X[k])\n",
    "    for k in np.arange(i+1,n):\n",
    "        l*=(x-X[k])\n",
    "    return l\n",
    "# The Lagrange polynomials\n",
    "def L_Lagrange(X,x,i):\n",
    "    num = l_Lagrange(X,x,i)\n",
    "    den = l_Lagrange(X,X[i],i)\n",
    "    L=num/den\n",
    "    return L\n",
    "# The Lagrange interpolation\n",
    "# X : x - data points\n",
    "# x : the symbolic variable\n",
    "# Y : y - data points\n",
    "def P_Lagrange(X,x,Y):\n",
    "    P=0\n",
    "    n=len(X)\n",
    "    for i in np.arange(n):\n",
    "        P+=Y[i]*L_Lagrange(X,x,i)\n",
    "    return P"
   ]
  },
  {
   "cell_type": "markdown",
   "metadata": {},
   "source": [
    "## Just a small example of a interpolation of 2 points"
   ]
  },
  {
   "cell_type": "code",
   "execution_count": 37,
   "metadata": {},
   "outputs": [
    {
     "data": {
      "image/png": "[encoded data removed]",
      "text/latex": [
       "$$- \\frac{x}{120} \\left(x - 6\\right) \\left(x - 5\\right) \\left(x - 4\\right) \\left(x - 3\\right) \\left(x - 2\\right) - \\frac{x}{24} \\left(x - 6\\right) \\left(x - 5\\right) \\left(x - 4\\right) \\left(x - 3\\right) \\left(x - 1\\right) - \\frac{x}{36} \\left(x - 6\\right) \\left(x - 5\\right) \\left(x - 4\\right) \\left(x - 2\\right) \\left(x - 1\\right) - \\frac{x}{60} \\left(x - 6\\right) \\left(x - 4\\right) \\left(x - 3\\right) \\left(x - 2\\right) \\left(x - 1\\right) + \\frac{7 x}{720} \\left(x - 5\\right) \\left(x - 4\\right) \\left(x - 3\\right) \\left(x - 2\\right) \\left(x - 1\\right)$$"
      ],
      "text/plain": [
       "  x⋅(x - 6)⋅(x - 5)⋅(x - 4)⋅(x - 3)⋅(x - 2)   x⋅(x - 6)⋅(x - 5)⋅(x - 4)⋅(x - 3\n",
       "- ───────────────────────────────────────── - ────────────────────────────────\n",
       "                     120                                          24          \n",
       "\n",
       ")⋅(x - 1)   x⋅(x - 6)⋅(x - 5)⋅(x - 4)⋅(x - 2)⋅(x - 1)   x⋅(x - 6)⋅(x - 4)⋅(x -\n",
       "───────── - ───────────────────────────────────────── - ──────────────────────\n",
       "                                36                                          60\n",
       "\n",
       " 3)⋅(x - 2)⋅(x - 1)   7⋅x⋅(x - 5)⋅(x - 4)⋅(x - 3)⋅(x - 2)⋅(x - 1)\n",
       "─────────────────── + ───────────────────────────────────────────\n",
       "                                          720                    "
      ]
     },
     "execution_count": 37,
     "metadata": {},
     "output_type": "execute_result"
    }
   ],
   "source": [
    "# x - data points\n",
    "X=(0,1,2,3,4,5,6)\n",
    "# y - data points\n",
    "Y=(0,1,-2,1,0,2,7)\n",
    "# The interpolation\n",
    "P=P_Lagrange(X,x,Y)\n",
    "# Just showing the polynomial. Do you see the Lagrange polynomials?\n",
    "P"
   ]
  },
  {
   "cell_type": "code",
   "execution_count": 35,
   "metadata": {},
   "outputs": [
    {
     "data": {
      "image/png": "[encoded data removed]",
      "text/latex": [
       "$$\\frac{x}{720} \\left(- 61 x^{5} + 1137 x^{4} - 8005 x^{3} + 26295 x^{2} - 39454 x + 20808\\right)$$"
      ],
      "text/plain": [
       "  ⎛      5         4         3          2                  ⎞\n",
       "x⋅⎝- 61⋅x  + 1137⋅x  - 8005⋅x  + 26295⋅x  - 39454⋅x + 20808⎠\n",
       "────────────────────────────────────────────────────────────\n",
       "                            720                             "
      ]
     },
     "execution_count": 35,
     "metadata": {},
     "output_type": "execute_result"
    }
   ],
   "source": [
    "# And a simplified version of the polinomial!\n",
    "sym.simplify(P)"
   ]
  },
  {
   "cell_type": "markdown",
   "metadata": {},
   "source": [
    "Plotting what we got"
   ]
  },
  {
   "cell_type": "code",
   "execution_count": 40,
   "metadata": {},
   "outputs": [
    {
     "data": {
      "image/png": "[encoded data removed]",
      "text/plain": [
       "<matplotlib.figure.Figure at 0x7f482b7aa8d0>"
      ]
     },
     "metadata": {},
     "output_type": "display_data"
    }
   ],
   "source": [
    "# We need to plot in a finer grid\n",
    "xx=np.linspace(min(X),max(X),1000)\n",
    "# Here we create a lambda function for our interpolation\n",
    "Pl=sym.lambdify(x,P)\n",
    "# The next line vectorize the lambda function, it is not need here but it can be used\n",
    "# Plv=np.vectorize(Pl) \n",
    "plt.figure(figsize=(15,5))\n",
    "# Plotting the interpolated data\n",
    "plt.plot(xx,Pl(xx),label='$P(x)$')\n",
    "# Plotting the data points\n",
    "plt.plot(np.array(X),np.array(Y),'k.',markersize=20,label='Data points')\n",
    "plt.grid(True)\n",
    "plt.ylim([np.min(Pl(xx))-1,np.max(Pl(xx))+1])\n",
    "plt.xlabel('$x$')\n",
    "plt.ylabel('$y$')\n",
    "plt.legend(loc='best')\n",
    "plt.show()"
   ]
  },
  {
   "cell_type": "markdown",
   "metadata": {},
   "source": [
    "## Let's find the 4th order differentiation approximation"
   ]
  },
  {
   "cell_type": "code",
   "execution_count": 41,
   "metadata": {},
   "outputs": [
    {
     "data": {
      "image/png": "[encoded data removed]",
      "text/latex": [
       "$$\\frac{u_{1}}{24 h^{4}} \\left(x - xj\\right) \\left(- 2 h + x - xj\\right) \\left(- h + x - xj\\right) \\left(h + x - xj\\right) - \\frac{u_{2}}{6 h^{4}} \\left(x - xj\\right) \\left(- 2 h + x - xj\\right) \\left(- h + x - xj\\right) \\left(2 h + x - xj\\right) + \\frac{u_{3}}{4 h^{4}} \\left(- 2 h + x - xj\\right) \\left(- h + x - xj\\right) \\left(h + x - xj\\right) \\left(2 h + x - xj\\right) - \\frac{u_{4}}{6 h^{4}} \\left(x - xj\\right) \\left(- 2 h + x - xj\\right) \\left(h + x - xj\\right) \\left(2 h + x - xj\\right) + \\frac{u_{5}}{24 h^{4}} \\left(x - xj\\right) \\left(- h + x - xj\\right) \\left(h + x - xj\\right) \\left(2 h + x - xj\\right)$$"
      ],
      "text/plain": [
       "u₁⋅(x - xj)⋅(-2⋅h + x - xj)⋅(-h + x - xj)⋅(h + x - xj)   u₂⋅(x - xj)⋅(-2⋅h + x\n",
       "────────────────────────────────────────────────────── - ─────────────────────\n",
       "                            4                                                 \n",
       "                        24⋅h                                                  \n",
       "\n",
       " - xj)⋅(-h + x - xj)⋅(2⋅h + x - xj)   u₃⋅(-2⋅h + x - xj)⋅(-h + x - xj)⋅(h + x \n",
       "─────────────────────────────────── + ────────────────────────────────────────\n",
       "        4                                                            4        \n",
       "     6⋅h                                                          4⋅h         \n",
       "\n",
       "- xj)⋅(2⋅h + x - xj)   u₄⋅(x - xj)⋅(-2⋅h + x - xj)⋅(h + x - xj)⋅(2⋅h + x - xj)\n",
       "──────────────────── - ───────────────────────────────────────────────────────\n",
       "                                                    4                         \n",
       "                                                 6⋅h                          \n",
       "\n",
       "   u₅⋅(x - xj)⋅(-h + x - xj)⋅(h + x - xj)⋅(2⋅h + x - xj)\n",
       " + ─────────────────────────────────────────────────────\n",
       "                               4                        \n",
       "                           24⋅h                         "
      ]
     },
     "execution_count": 41,
     "metadata": {},
     "output_type": "execute_result"
    }
   ],
   "source": [
    "# x - data points. Notice that they are all symbolic variables!\n",
    "X=(xj-2*h,xj-h,xj,xj+h,xj+2*h)\n",
    "# y - data points. Also symbolic variables!\n",
    "Y=(u1,u2,u3,u4,u5)\n",
    "# The Lagrange interpolation still works!\n",
    "P=P_Lagrange(X,x,Y)\n",
    "P"
   ]
  },
  {
   "cell_type": "code",
   "execution_count": 45,
   "metadata": {},
   "outputs": [
    {
     "data": {
      "image/png": "[encoded data removed]",
      "text/latex": [
       "$$\\frac{u_{1}}{24 h^{4}} \\left(x - xj\\right) \\left(- 2 h + x - xj\\right) \\left(- h + x - xj\\right) + \\frac{u_{1}}{24 h^{4}} \\left(x - xj\\right) \\left(- 2 h + x - xj\\right) \\left(h + x - xj\\right) + \\frac{u_{1}}{24 h^{4}} \\left(x - xj\\right) \\left(- h + x - xj\\right) \\left(h + x - xj\\right) + \\frac{u_{1}}{24 h^{4}} \\left(- 2 h + x - xj\\right) \\left(- h + x - xj\\right) \\left(h + x - xj\\right) - \\frac{u_{2}}{6 h^{4}} \\left(x - xj\\right) \\left(- 2 h + x - xj\\right) \\left(- h + x - xj\\right) - \\frac{u_{2}}{6 h^{4}} \\left(x - xj\\right) \\left(- 2 h + x - xj\\right) \\left(2 h + x - xj\\right) - \\frac{u_{2}}{6 h^{4}} \\left(x - xj\\right) \\left(- h + x - xj\\right) \\left(2 h + x - xj\\right) - \\frac{u_{2}}{6 h^{4}} \\left(- 2 h + x - xj\\right) \\left(- h + x - xj\\right) \\left(2 h + x - xj\\right) + \\frac{u_{3}}{4 h^{4}} \\left(- 2 h + x - xj\\right) \\left(- h + x - xj\\right) \\left(h + x - xj\\right) + \\frac{u_{3}}{4 h^{4}} \\left(- 2 h + x - xj\\right) \\left(- h + x - xj\\right) \\left(2 h + x - xj\\right) + \\frac{u_{3}}{4 h^{4}} \\left(- 2 h + x - xj\\right) \\left(h + x - xj\\right) \\left(2 h + x - xj\\right) + \\frac{u_{3}}{4 h^{4}} \\left(- h + x - xj\\right) \\left(h + x - xj\\right) \\left(2 h + x - xj\\right) - \\frac{u_{4}}{6 h^{4}} \\left(x - xj\\right) \\left(- 2 h + x - xj\\right) \\left(h + x - xj\\right) - \\frac{u_{4}}{6 h^{4}} \\left(x - xj\\right) \\left(- 2 h + x - xj\\right) \\left(2 h + x - xj\\right) - \\frac{u_{4}}{6 h^{4}} \\left(x - xj\\right) \\left(h + x - xj\\right) \\left(2 h + x - xj\\right) - \\frac{u_{4}}{6 h^{4}} \\left(- 2 h + x - xj\\right) \\left(h + x - xj\\right) \\left(2 h + x - xj\\right) + \\frac{u_{5}}{24 h^{4}} \\left(x - xj\\right) \\left(- h + x - xj\\right) \\left(h + x - xj\\right) + \\frac{u_{5}}{24 h^{4}} \\left(x - xj\\right) \\left(- h + x - xj\\right) \\left(2 h + x - xj\\right) + \\frac{u_{5}}{24 h^{4}} \\left(x - xj\\right) \\left(h + x - xj\\right) \\left(2 h + x - xj\\right) + \\frac{u_{5}}{24 h^{4}} \\left(- h + x - xj\\right) \\left(h + x - xj\\right) \\left(2 h + x - xj\\right)$$"
      ],
      "text/plain": [
       "u₁⋅(x - xj)⋅(-2⋅h + x - xj)⋅(-h + x - xj)   u₁⋅(x - xj)⋅(-2⋅h + x - xj)⋅(h + x\n",
       "───────────────────────────────────────── + ──────────────────────────────────\n",
       "                      4                                          4            \n",
       "                  24⋅h                                       24⋅h             \n",
       "\n",
       " - xj)   u₁⋅(x - xj)⋅(-h + x - xj)⋅(h + x - xj)   u₁⋅(-2⋅h + x - xj)⋅(-h + x -\n",
       "────── + ────────────────────────────────────── + ────────────────────────────\n",
       "                             4                                            4   \n",
       "                         24⋅h                                         24⋅h    \n",
       "\n",
       " xj)⋅(h + x - xj)   u₂⋅(x - xj)⋅(-2⋅h + x - xj)⋅(-h + x - xj)   u₂⋅(x - xj)⋅(-\n",
       "───────────────── - ───────────────────────────────────────── - ──────────────\n",
       "                                          4                                   \n",
       "                                       6⋅h                                    \n",
       "\n",
       "2⋅h + x - xj)⋅(2⋅h + x - xj)   u₂⋅(x - xj)⋅(-h + x - xj)⋅(2⋅h + x - xj)   u₂⋅(\n",
       "──────────────────────────── - ──────────────────────────────────────── - ────\n",
       "        4                                           4                         \n",
       "     6⋅h                                         6⋅h                          \n",
       "\n",
       "-2⋅h + x - xj)⋅(-h + x - xj)⋅(2⋅h + x - xj)   u₃⋅(-2⋅h + x - xj)⋅(-h + x - xj)\n",
       "─────────────────────────────────────────── + ────────────────────────────────\n",
       "                     4                                                4       \n",
       "                  6⋅h                                              4⋅h        \n",
       "\n",
       "⋅(h + x - xj)   u₃⋅(-2⋅h + x - xj)⋅(-h + x - xj)⋅(2⋅h + x - xj)   u₃⋅(-2⋅h + x\n",
       "───────────── + ─────────────────────────────────────────────── + ────────────\n",
       "                                         4                                    \n",
       "                                      4⋅h                                     \n",
       "\n",
       " - xj)⋅(h + x - xj)⋅(2⋅h + x - xj)   u₃⋅(-h + x - xj)⋅(h + x - xj)⋅(2⋅h + x - \n",
       "────────────────────────────────── + ─────────────────────────────────────────\n",
       "            4                                               4                 \n",
       "         4⋅h                                             4⋅h                  \n",
       "\n",
       "xj)   u₄⋅(x - xj)⋅(-2⋅h + x - xj)⋅(h + x - xj)   u₄⋅(x - xj)⋅(-2⋅h + x - xj)⋅(\n",
       "─── - ──────────────────────────────────────── - ─────────────────────────────\n",
       "                           4                                           4      \n",
       "                        6⋅h                                         6⋅h       \n",
       "\n",
       "2⋅h + x - xj)   u₄⋅(x - xj)⋅(h + x - xj)⋅(2⋅h + x - xj)   u₄⋅(-2⋅h + x - xj)⋅(\n",
       "───────────── - ─────────────────────────────────────── - ────────────────────\n",
       "                                     4                                        \n",
       "                                  6⋅h                                         \n",
       "\n",
       "h + x - xj)⋅(2⋅h + x - xj)   u₅⋅(x - xj)⋅(-h + x - xj)⋅(h + x - xj)   u₅⋅(x - \n",
       "────────────────────────── + ────────────────────────────────────── + ────────\n",
       "    4                                            4                            \n",
       " 6⋅h                                         24⋅h                             \n",
       "\n",
       "xj)⋅(-h + x - xj)⋅(2⋅h + x - xj)   u₅⋅(x - xj)⋅(h + x - xj)⋅(2⋅h + x - xj)   u\n",
       "──────────────────────────────── + ─────────────────────────────────────── + ─\n",
       "             4                                          4                     \n",
       "         24⋅h                                       24⋅h                      \n",
       "\n",
       "₅⋅(-h + x - xj)⋅(h + x - xj)⋅(2⋅h + x - xj)\n",
       "───────────────────────────────────────────\n",
       "                      4                    \n",
       "                  24⋅h                     "
      ]
     },
     "execution_count": 45,
     "metadata": {},
     "output_type": "execute_result"
    }
   ],
   "source": [
    "# Here we compute the derivative of the polynomian P(x), i.e. we obtain P'(x) and we definy it as Pp (P-prime).\n",
    "Pp=sym.diff(P,x)\n",
    "Pp"
   ]
  },
  {
   "cell_type": "code",
   "execution_count": 46,
   "metadata": {},
   "outputs": [
    {
     "data": {
      "image/png": "[encoded data removed]",
      "text/latex": [
       "$$\\frac{u_{1}}{12 h} - \\frac{2 u_{2}}{3 h} + \\frac{2 u_{4}}{3 h} - \\frac{u_{5}}{12 h}$$"
      ],
      "text/plain": [
       " u₁    2⋅u₂   2⋅u₄    u₅ \n",
       "──── - ──── + ──── - ────\n",
       "12⋅h   3⋅h    3⋅h    12⋅h"
      ]
     },
     "execution_count": 46,
     "metadata": {},
     "output_type": "execute_result"
    }
   ],
   "source": [
    "# Now we evaluate P'(x) at x=x_j.\n",
    "PpE=Pp.subs({x:xj})\n",
    "PpE"
   ]
  },
  {
   "cell_type": "markdown",
   "metadata": {},
   "source": [
    "# Class work"
   ]
  },
  {
   "cell_type": "markdown",
   "metadata": {},
   "source": [
    "## How to you find a 6th order approximation? Please do it"
   ]
  },
  {
   "cell_type": "code",
   "execution_count": 63,
   "metadata": {},
   "outputs": [
    {
     "data": {
      "image/png": "[encoded data removed]",
      "text/latex": [
       "$$- \\frac{u_{0}}{60 h} + \\frac{3 u_{1}}{20 h} - \\frac{3 u_{2}}{4 h} + \\frac{3 u_{4}}{4 h} - \\frac{3 u_{5}}{20 h} + \\frac{u_{6}}{60 h}$$"
      ],
      "text/plain": [
       "   u₀    3⋅u₁   3⋅u₂   3⋅u₄   3⋅u₅    u₆ \n",
       "- ──── + ──── - ──── + ──── - ──── + ────\n",
       "  60⋅h   20⋅h   4⋅h    4⋅h    20⋅h   60⋅h"
      ]
     },
     "execution_count": 63,
     "metadata": {},
     "output_type": "execute_result"
    }
   ],
   "source": [
    "xj, h, x = sym.symbols('xj h x', reals=True)\n",
    "u0, u1, u2, u3, u4, u5, u6 = sym.symbols('u0 u1 u2 u3 u4 u5 u6', reals=True)\n",
    "# x - data points. Notice that they are all symbolic variables!\n",
    "X=(xj-3*h,xj-2*h,xj-h,xj,xj+h,xj+2*h,xj+3*h)\n",
    "# y - data points. Also symbolic variables!\n",
    "Y=(u0,u1,u2,u3,u4,u5,u6)\n",
    "# The Lagrange interpolation still works!\n",
    "P=P_Lagrange(X,x,Y)\n",
    "P.diff(x).subs({x:xj})"
   ]
  },
  {
   "cell_type": "code",
   "execution_count": 67,
   "metadata": {},
   "outputs": [
    {
     "data": {
      "image/png": "[encoded data removed]",
      "text/latex": [
       "$$\\frac{u_{0}}{90 h^{2}} - \\frac{3 u_{1}}{20 h^{2}} + \\frac{3 u_{2}}{2 h^{2}} - \\frac{49 u_{3}}{18 h^{2}} + \\frac{3 u_{4}}{2 h^{2}} - \\frac{3 u_{5}}{20 h^{2}} + \\frac{u_{6}}{90 h^{2}}$$"
      ],
      "text/plain": [
       "  u₀     3⋅u₁   3⋅u₂   49⋅u₃   3⋅u₄    3⋅u₅     u₆ \n",
       "───── - ───── + ──── - ───── + ──── - ───── + ─────\n",
       "    2       2      2       2      2       2       2\n",
       "90⋅h    20⋅h    2⋅h    18⋅h    2⋅h    20⋅h    90⋅h "
      ]
     },
     "execution_count": 67,
     "metadata": {},
     "output_type": "execute_result"
    }
   ],
   "source": [
    "P.diff(x).diff(x).subs({x:xj})"
   ]
  },
  {
   "cell_type": "code",
   "execution_count": 68,
   "metadata": {
    "scrolled": true
   },
   "outputs": [
    {
     "data": {
      "image/png": "[encoded data removed]",
      "text/latex": [
       "$$\\frac{u_{0}}{8 h^{3}} - \\frac{u_{1}}{h^{3}} + \\frac{13 u_{2}}{8 h^{3}} - \\frac{13 u_{4}}{8 h^{3}} + \\frac{u_{5}}{h^{3}} - \\frac{u_{6}}{8 h^{3}}$$"
      ],
      "text/plain": [
       " u₀    u₁   13⋅u₂   13⋅u₄   u₅    u₆ \n",
       "──── - ── + ───── - ───── + ── - ────\n",
       "   3    3       3       3    3      3\n",
       "8⋅h    h     8⋅h     8⋅h    h    8⋅h "
      ]
     },
     "execution_count": 68,
     "metadata": {},
     "output_type": "execute_result"
    }
   ],
   "source": [
    "P.diff(x).diff(x).diff(x).subs({x:xj})"
   ]
  },
  {
   "cell_type": "markdown",
   "metadata": {},
   "source": [
    "## How do you find a second order approximation on a left boundary? i.e. say you have $u_1(x_1)$, $u_2(x_2)$ and $u_3(x_3)$, interpolate them and compute the derivative at $x_1$."
   ]
  },
  {
   "cell_type": "code",
   "execution_count": 71,
   "metadata": {},
   "outputs": [
    {
     "data": {
      "image/png": "[encoded data removed]",
      "text/latex": [
       "$$- \\frac{3 u_{1}}{2 h} + \\frac{2 u_{2}}{h} - \\frac{u_{3}}{2 h}$$"
      ],
      "text/plain": [
       "  3⋅u₁   2⋅u₂    u₃\n",
       "- ──── + ──── - ───\n",
       "  2⋅h     h     2⋅h"
      ]
     },
     "execution_count": 71,
     "metadata": {},
     "output_type": "execute_result"
    }
   ],
   "source": [
    "xj, h, x = sym.symbols('xj h x', reals=True)\n",
    "u1, u2, u3 = sym.symbols('u1 u2 u3', reals=True)\n",
    "# x - data points. Notice that they are all symbolic variables!\n",
    "X=(xj,xj+h,xj+2*h)\n",
    "# y - data points. Also symbolic variables!\n",
    "Y=(u1,u2,u3)\n",
    "# The Lagrange interpolation still works!\n",
    "P=P_Lagrange(X,x,Y)\n",
    "P.diff(x).subs({x:xj})"
   ]
  },
  {
   "cell_type": "code",
   "execution_count": null,
   "metadata": {
    "collapsed": true
   },
   "outputs": [],
   "source": []
  }
 ],
 "metadata": {
  "anaconda-cloud": {},
  "kernelspec": {
   "display_name": "Python [default]",
   "language": "python",
   "name": "python3"
  },
  "language_info": {
   "codemirror_mode": {
    "name": "ipython",
    "version": 3
   },
   "file_extension": ".py",
   "mimetype": "text/x-python",
   "name": "python",
   "nbconvert_exporter": "python",
   "pygments_lexer": "ipython3",
   "version": "3.5.2"
  }
 },
 "nbformat": 4,
 "nbformat_minor": 1
}

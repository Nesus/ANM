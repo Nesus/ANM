{
 "cells": [
  {
   "cell_type": "markdown",
   "metadata": {},
   "source": [
    "<!-- Latest compiled and minified CSS -->\n",
    "<link rel=\"stylesheet\" href=\"https://maxcdn.bootstrapcdn.com/bootstrap/3.3.7/css/bootstrap.min.css\" integrity=\"sha384-BVYiiSIFeK1dGmJRAkycuHAHRg32OmUcww7on3RYdg4Va+PmSTsz/K68vbdEjh4u\" crossorigin=\"anonymous\">\n",
    "\n",
    "<!-- Optional theme -->\n",
    "<link rel=\"stylesheet\" href=\"https://maxcdn.bootstrapcdn.com/bootstrap/3.3.7/css/bootstrap-theme.min.css\" integrity=\"sha384-rHyoN1iRsVXV4nD0JutlnGaslCJuC7uwjduW9SVrLvRYooPp2bWYgmgJQIXwl/Sp\" crossorigin=\"anonymous\">\n",
    "\n",
    "<!-- Latest compiled and minified JavaScript -->\n",
    "<script src=\"https://maxcdn.bootstrapcdn.com/bootstrap/3.3.7/js/bootstrap.min.js\" integrity=\"sha384-Tc5IQib027qvyjSMfHjOMaLkfuWVxZxUPnCJA7l2mCWNIpG9mGCD8wGNIcPD7Txa\" crossorigin=\"anonymous\"></script>\n",
    "\n",
    "<div class=\"jumbotron\" style=\"background:#FAF6C0;   border-radius: 10px; padding: 20px 20px 20px 20px;\">\n",
    "<img src=\"logo-blog.png\"/><hr /> \n",
    "<h1 class=\"page-title\" align=\"Center\"> INF510 - Homework 1 </h1>\n",
    "<h3 align=\"center\"> Camilo Valenzuela Carrasco  <font style=\"color:gray;\">201173030-5 </font> </h3>\n",
    "</div>\n",
    "\n",
    "<h2>Table of Content</h2>\n",
    "<div class=\"row\">\n",
    "    <div class=\"col-md-6\">\n",
    "        <div class=\"list-group\">\n",
    "          <a href=\"#Question-I\" class=\"list-group-item\"> Question I</a>\n",
    "          <a href=\"#Question-II\" class=\"list-group-item\"> Question II</a>\n",
    "          <a href=\"#Question-III\" class=\"list-group-item\"> Question III</a>\n",
    "          <a href=\"#Question-IV\" class=\"list-group-item\"> Question IV</a>\n",
    "          <a href=\"#Question-V\" class=\"list-group-item\"> Question V</a>\n",
    "          <a href=\"#Question-VI\" class=\"list-group-item\"> Question VI</a>\n",
    "          <a href=\"#Question-VII\" class=\"list-group-item\"> Question VII</a>\n",
    "            <a href=\"#Question-VIII\" class=\"list-group-item\"> Question VIII</a>\n",
    "        <a href=\"#Question-XVII\" class=\"list-group-item\"> Question XVII</a>\n",
    "\n",
    "        </div>\n",
    "    </div>\n",
    "    <div class=\"col-md-6\">\n",
    "        <div class=\"list-group\">\n",
    "          <a href=\"#Question-IX\" class=\"list-group-item\"> Question IX</a>\n",
    "          <a href=\"#Question-X\" class=\"list-group-item\"> Question X</a>\n",
    "          <a href=\"#Question-XI\" class=\"list-group-item\"> Question XI</a>\n",
    "          <a href=\"#Question-XII\" class=\"list-group-item\"> Question XII</a>\n",
    "          <a href=\"#Question-XIII\" class=\"list-group-item\"> Question XIII</a>\n",
    "          <a href=\"#Question-XIV\" class=\"list-group-item\"> Question XIV</a>\n",
    "        <a href=\"#Question-XV\" class=\"list-group-item\"> Question XV</a>\n",
    "        <a href=\"#Question-XVI\" class=\"list-group-item\"> Question XVI</a>\n",
    "        </div>\n",
    "    </div>\n",
    "</div>"
   ]
  },
  {
   "cell_type": "code",
   "execution_count": 280,
   "metadata": {},
   "outputs": [
    {
     "data": {
      "text/html": [
       "<style> .output_png {text-align: center;}</style>"
      ],
      "text/plain": [
       "<IPython.core.display.HTML object>"
      ]
     },
     "metadata": {},
     "output_type": "display_data"
    }
   ],
   "source": [
    "%%HTML \n",
    "<style> .output_png {text-align: center;}</style>"
   ]
  },
  {
   "cell_type": "code",
   "execution_count": 281,
   "metadata": {},
   "outputs": [
    {
     "name": "stdout",
     "output_type": "stream",
     "text": [
      "IPython console for SymPy 1.0 (Python 3.5.2-64-bit) (ground types: python)\n"
     ]
    }
   ],
   "source": [
    "import numpy as np\n",
    "import scipy.linalg as splin\n",
    "import scipy.sparse as sps\n",
    "import scipy.sparse.linalg as spslin\n",
    "import sympy as sm\n",
    "from sympy import init_session,init_printing\n",
    "init_session(quiet=True)\n",
    "init_printing()\n",
    "\n",
    "import warnings\n",
    "warnings.filterwarnings('ignore')\n",
    "\n",
    "\n",
    "\n",
    "import matplotlib.pyplot as plt\n",
    "%matplotlib inline"
   ]
  },
  {
   "cell_type": "markdown",
   "metadata": {},
   "source": [
    "## Question I\n",
    "When trying to solve some kind Matrix problem, for example a linear system $Ax = b$, knowing the structure and some characteristics of the matrix will help to know its properties and help to select for example the best method to solve the problem, and some cases to know if the problem can be solved.\n",
    "\n",
    "### (a) Singular Matrix\n",
    "\n",
    "Generally we want to solve a Matrix System $Ax=b$ for $x$ using $x = A^{-1}b$ where $A^{-1}$ is the inverse matrix of $A$.\n",
    "\n",
    "- A Singular Matrix is not invertible, so we can't calculate the inverse matrix $A^{-1}$.\n",
    "\n",
    "- This type of matrix has determinant $det(A) = 0$, that means one of its eigenvalues is equal to 0.\n",
    "\n",
    "- Is not full rank, $rank(A) \\neq n$, this means some of the matrix columns has a lineal dependency with other column\n",
    "\n",
    "<small><b style=\"color:red;\">Observation:</b> When using numerical Methods we doesn't calculate $A^{-1}$ explicitly</small>\n",
    "### (b) Vandermonde Matrix\n",
    "A Vandermone matrix is a Matrix where each row has a geometric progression.\n",
    "\n",
    "\n",
    "$$V=\\begin{bmatrix}\n",
    "   1 & \\alpha_{1} & \\alpha_{1}^2 & \\alpha_{1}^3     & \\dots & \\alpha_{1}^{n-1} \\\\ \n",
    "   1 & \\alpha_{2} & \\alpha_{2}^2 & \\alpha_{2}^3     & \\dots & \\alpha_{2}^{n-1} \\\\\n",
    "\\vdots & \\vdots     & \\vdots       & \\vdots           & \\ddots& \\vdots \\\\\n",
    "   1 & \\alpha_{m} & \\alpha_{m}^2 & \\alpha_{m}^3     & \\dots & \\alpha_{m}^{n-1} \\\\\n",
    "\\end{bmatrix}$$\n",
    "\n",
    "\n",
    "If we have a Square Vandermone Matrix (m=n) the determinant of the matrix can be calculated as \n",
    "\n",
    "$$det(V) = \\displaystyle \\prod_{1 \\le i \\le j \\leq n} (\\alpha_i - \\alpha_j)$$\n",
    "\n",
    "This matrix is not singular if $\\alpha_i \\neq \\alpha_j, \\ \\forall i\\neq j$, this because the determinant is not equal to 0.\n",
    "\n",
    "\n",
    "### (c) Symmetric Matrix\n",
    "\n",
    "A Symmetric matrix is a real square matrix $A$ where $A = A^T$ if we see each coeficient $a_{ij} = a_{ji}$, the coeficients of the main diagonal doens't need to have any property.\n",
    "\n",
    "\n",
    "   $$ A=\\begin{bmatrix}\n",
    "    \\beta_{1} & \\alpha_{1} & \\alpha_{2} \\\\\n",
    "    \\alpha_{1} & \\beta_{2} & \\alpha_{3} \\\\\n",
    "    \\alpha_{2} & \\alpha_{3} & \\beta_{3} \\\\ \n",
    "    \\end{bmatrix} $$\n",
    "    \n",
    "Some properties of this matrix:\n",
    "- The sum of two Symmetric Matrices is Symmetric.\n",
    "- If a Symmetric Matrix has inverse, it is Symmetric.\n",
    "\n",
    "### (d) Hermitian Matrix\n",
    "\n",
    "An Hermitian Matrix is a Complex Matrix (his coeficients are complex numbers), the most important property of this matrix is that the element i-th row and j-th column is equal to the conjugate of the element from the j-th column and i-th row.\n",
    "\n",
    "$$\\alpha_{ij}=\\overline{\\alpha{ji}}$$\n",
    "\n",
    "In matricial form, a Square Matrix $A$ is Hermitian if $A = A^*$ where $A^* = \\overline{A^T}$.\n",
    "\n",
    "Some properties:\n",
    "- The coeficients of the diagonal are real values, because the conjugate of a real number is the same real number.\n",
    "- The sum of two Hermitian matrices is an Hermitian matrix\n",
    "- The inverse of an Hermitian matrix is Hermitian.\n",
    "\n",
    "\n",
    "### (e) Skew-Hermitian Matrix\n",
    "Similar to a Hermitian Matrix a Skew-Hermitian Matrix the coeficients of the matrix are equal to its conjugate transponse coeficients with different sign.\n",
    "$$\\alpha_{ij}=-\\overline{\\alpha_{ji}}$$\n",
    "In matricial form $A = -A^*$.\n",
    "\n",
    "Some properties:\n",
    "- The eigenvalues of this kind of matrices are all imaginary or zero.\n",
    "- All coeficients in the main diagonal are imaginary ($-\\overline{\\alpha i} = \\alpha i$) \n",
    "\n",
    "### (f) Unitary Matrix\n",
    "A complex square matrix U is unitary if\n",
    "    $$ U^* U = I$$\n",
    "Where $I$ is the identity matrix. If U has only real coeficients is called Orthogonal Matrix because each vector is Orthogonal with all the other vectors from the matrix.\n",
    "\n",
    "Some properties:\n",
    "- U is diagonalizable ($U = V\\Lambda V$).\n",
    "- Its determinant is equal to $|det(U)| = 1$\n",
    "- Given $x,y$ vectors and $\\left<x,y\\right>$ its inner product, a unitary matrix mantain this inner product $\\left<Ux,Uy\\right>=\\left<x,y\\right>$.\n",
    "\n",
    "### (g) Jacobian Matrix\n",
    "Given a function $\\mathbf{f}: \\mathbb{R}^n \\rightarrow \\mathbb{R}^m$ a Jacobian Matrix is a matrix with the partial derivatives of $\\mathbf{f}$.\n",
    "\n",
    "\n",
    "\n",
    "$$\n",
    "{\\displaystyle \\mathbf {J} ={\\begin{bmatrix}{\\dfrac {\\partial \\mathbf {f} }{\\partial x_{1}}}&\\cdots &{\\dfrac {\\partial \\mathbf {f} }{\\partial x_{n}}}\\end{bmatrix}}={\\begin{bmatrix}{\\dfrac {\\partial f_{1}}{\\partial x_{1}}}&\\cdots &{\\dfrac {\\partial f_{1}}{\\partial x_{n}}}\\\\\\vdots &\\ddots &\\vdots \\\\{\\dfrac {\\partial f_{m}}{\\partial x_{1}}}&\\cdots &{\\dfrac {\\partial f_{m}}{\\partial x_{n}}}\\end{bmatrix}}}\n",
    "$$\n",
    "\n",
    "Some properties:\n",
    "- If $\\mathbf{f}$ has an inverse function, the Inverse Jacobian Matrix is the Jacobian Matrix of $\\mathbf{f}^{-1}$\n",
    "\n",
    "### (h) Projection Matrix\n",
    "A Projection Matrix is a $n \\times n$ matrix that takes the points from a space $\\mathbb{R}^n$ to a subspace $W$. For example \n",
    "$$ P=\\begin{bmatrix}\n",
    "    0 & 1 \\\\\n",
    "    0 & 1\n",
    "    \\end{bmatrix} $$\n",
    "\n",
    "Takes the points from $(x,y) \\in \\mathbb{R}^2$ and project to the subspace $(y,y)$.\n",
    "\n",
    "Some properties:\n",
    "- P for definition is idenpotent ($P^2 = P$) that means if we apply twice the projection we still get the same result.\n",
    "- P is orthogonal if $P^* = P$\n",
    "\n",
    "### (i) Companion Matrix\n",
    "Given a \n",
    "<b sytle=\"color:red;\">*</b><b>Monic polinomial</b>\n",
    "$\\alpha(x) = \\alpha_0 + \\alpha_1 x + \\dots \\alpha_{n-1} x^{n-1} + x^n$. \n",
    "\n",
    "The Companion Matrix is a square matrix $n \\times n$ \n",
    "$$ A=\\begin{bmatrix}\n",
    "    0 & 0 & \\dots & -\\alpha_0 \\\\\n",
    "    1 & 0 & \\dots & -\\alpha_1 \\\\\n",
    "    \\vdots & \\vdots & \\ddots & \\vdots \\\\\n",
    "    0 & 0 & \\dots & 1 & -\\alpha_{n-1}\n",
    "    \\end{bmatrix} $$\n",
    "\n",
    "Using the standard basis $e_i$ a companion Matrix satisfy $Ae_i = e_i+1$. (Standard basis: $e_x = (1,0)$, $e_y=(0,1)$)\n",
    "\n",
    "<small><font style=\"color:red\">*</font> <b>Monic Polinomial:</b> Polinomial where the coefficient of the higher order term is equal to 1</small>\n",
    "\n",
    "### (j) Jacobi Matrix\n",
    "In Linear Algebra a Jacobi Matrix is a square tri-diagonal matrix with real coefficients. \n",
    "\n",
    "$$ A=\\begin{bmatrix}\n",
    "    a_1 & b_1 & 0 & 0 & \\dots &0 \\\\\n",
    "    c_1 & a_2 & b_2 & 0 & \\dots &0\\\\\n",
    "    0 & c_2 & a_3 & b_3 & \\dots &0\\\\\n",
    "    \\vdots & \\vdots & \\vdots & \\vdots & \\ddots & \\vdots\\\\\n",
    "    0 & 0 & 0 & \\dots & c_{n-1} & a_n\n",
    "    \\end{bmatrix} $$\n",
    "Some properties:\n",
    "- If all elements $b_i,c_i$ are non-negative $\\forall i = 1 \\dots n$, and all the principal sub matrices from J are non-negative then J is non-negative.\n",
    "- If $b_i c_i > 0 \\forall i = 1 \\dots n$ then the roots of the characteristic polinomial of J are real and distinct.\n",
    "\n",
    "### (k) Defective Matrix \n",
    "A Defective Matrix is square a matrix that doesn't have $n$ linearly independent eigenvectors, therefore is not diagonalizable.\n",
    "\n",
    "Also this matrices has one or more eigenvalues $\\lambda$ with multiplicity $m > 1$, this come from the same idea that before, doesn't have full-rank.\n",
    "### (l) Toeplitz Matrix\n",
    "A Toeplitz or Diagonal Constant Matrix is a Matrix where each diagonal mantains constant.\n",
    "$$\n",
    "\\begin{bmatrix}\n",
    "a & b & c & d & e \\\\\n",
    "f & a & b & c & d \\\\\n",
    "g & f & a & b & c \\\\\n",
    "h & g & f & a & b \\\\\n",
    "i & h & g & f & a \n",
    "\\end{bmatrix}.\n",
    "$$\n",
    "This kind of matrix doesn't need to be square, but need to be square to have a linear system with the form $Ax=b$. When the matrix $A$ is is Toeplitz is called a Toeplitz System and its has been studied how to solve for its particullary shape.\n",
    "\n",
    "\n",
    "### (m) Circulant Matrix\n",
    "Given a vector $(c_0,c_1,c_2,\\dots,c_n)$ a Circulant Matrix is a special kind of Toeplitz Matrix where the previous defined vector is shifted one position to the right in each row of the matrix\n",
    "\n",
    "$$C={\\begin{bmatrix}c_{0}&c_{{n-1}}&\\dots &c_{{2}}&c_{{1}}\\\\c_{{1}}&c_{0}&c_{{n-1}}&&c_{{2}}\\\\\\vdots &c_{{1}}&c_{0}&\\ddots &\\vdots \\\\c_{{n-2}}&&\\ddots &\\ddots &c_{{n-1}}\\\\c_{{n-1}}&c_{{n-2}}&\\dots &c_{{1}}&c_{0}\\\\\\end{bmatrix}}.$$\n",
    "\n",
    "We can define this kind of matrix with a simple vector, making the matrix space efficient. \n",
    "\n",
    "Some properties:\n",
    "- The normalized eigenvector of this matrix can be expressed with the following\n",
    "$$v_{j}={\\frac  {1}{{\\sqrt  {n}}}}(1,~\\omega _{j},~\\omega _{j}^{2},~\\ldots ,~\\omega _{j}^{{n-1}})^{T},\\quad j=0,1,\\ldots ,n-1,$$\n",
    "where $\\omega _{j}=\\exp \\left({\\tfrac  {2\\pi ij}{n}}\\right)$ are the roots of the unity. \n",
    "\n",
    "\n",
    "### (n) Hankel Matrix\n",
    "A Hankel Matrix is a square matrix similar to a Circulant Matrix but the vector is \"infinite\" so we get a new value in the right side of the matrix in each row. For example:\n",
    "$${\\begin{bmatrix}a&b&c&d&e\\\\b&c&d&e&f\\\\c&d&e&f&g\\\\d&e&f&g&h\\\\e&f&g&h&i\\\\\\end{bmatrix}}.$$\n",
    "We start with $(a,b,c,d,e)$ the second row $(b,c,d,e,f)$ is shifted the $a$ value dissapear and appears $f$.\n",
    "\n",
    "### (o) Hilbert Matrix\n",
    "A Hilbert Matrix is a square matrix where its coefficients follow the equation\n",
    "$$ H_{{ij}}={\\frac  {1}{i+j-1}}.$$\n",
    "For example a $5\\times 5$ Hilbert Matrix :\n",
    "$$H={\\begin{bmatrix}1&{\\frac  {1}{2}}&{\\frac  {1}{3}}&{\\frac  {1}{4}}&{\\frac  {1}{5}}\\\\[4pt]{\\frac  {1}{2}}&{\\frac  {1}{3}}&{\\frac  {1}{4}}&{\\frac  {1}{5}}&{\\frac  {1}{6}}\\\\[4pt]{\\frac  {1}{3}}&{\\frac  {1}{4}}&{\\frac  {1}{5}}&{\\frac  {1}{6}}&{\\frac  {1}{7}}\\\\[4pt]{\\frac  {1}{4}}&{\\frac  {1}{5}}&{\\frac  {1}{6}}&{\\frac  {1}{7}}&{\\frac  {1}{8}}\\\\[4pt]{\\frac  {1}{5}}&{\\frac  {1}{6}}&{\\frac  {1}{7}}&{\\frac  {1}{8}}&{\\frac  {1}{9}}\\end{bmatrix}}.$$\n",
    "\n",
    "Some properties:\n",
    "- Is Symmetric\n",
    "- Positive Definite, invertible.\n",
    "- Ill-Conditioned, this means has a big condition number $\\kappa(H) = ||H^{-1}|| \\ \\ ||H|| = \\frac{|\\lambda_{max}(H)|}{|\\lambda_{min}(H)|}$. The condition number grows $O((1+{\\sqrt  {2}})^{{4n}}/{\\sqrt  {n}})$ making it harder to solve when $n$ is big.\n",
    "\n",
    "\n",
    "### (p) Markov Matrix\n",
    "Markov or Stochastic Matrix describe a probabilitic process called *Markov Chain*, for example we have two states $i,j$ we can define a probability to pass from the state $i$ to $j$ in one step $Pr(j|i) = P_{i,j}$. If we have more states we can define the Markov Matrix to describe that situation as:\n",
    "$${\\displaystyle P=\\left({\\begin{matrix}P_{1,1}&P_{1,2}&\\dots &P_{1,j}&\\dots &P_{1,S}\\\\P_{2,1}&P_{2,2}&\\dots &P_{2,j}&\\dots &P_{2,S}\\\\\\vdots &\\vdots &\\ddots &\\vdots &\\ddots &\\vdots \\\\P_{i,1}&P_{i,2}&\\dots &P_{i,j}&\\dots &P_{i,S}\\\\\\vdots &\\vdots &\\ddots &\\vdots &\\ddots &\\vdots \\\\P_{S,1}&P_{S,2}&\\dots &P_{S,j}&\\dots &P_{S,S}\\\\\\end{matrix}}\\right).}$$\n",
    "\n",
    "Since we need to pass from one state to another the sum of the column must be 1 \n",
    "$${\\displaystyle \\sum _{j=1}^{S}P_{i,j}=1.\\,}$$ \n",
    "mantaining the total probabilty.\n",
    "\n",
    "### (q) Differentiation Matrix (Matrices)\n",
    "Given a Partial Differential Equation (PDE), for example\n",
    "$$ \\frac{\\partial^2 u(x)}{\\partial x^2} = g(x) \\\\ u(0) = 0, u(1) = 0$$\n",
    "\n",
    "We can use finite difference to approximate the partial derivative in n points. \n",
    "$$ \\frac{\\partial^2 u(x)}{\\partial x^2} = \\frac{u_{i-1} - 2 u_{i} + u_{i+1}}{h^2}$$\n",
    "Where $h = \\frac{1}{n-1}$, $i = 1 \\dots n$\n",
    "\n",
    "We can write the discretized equation like a linear system $Ax = b$ where\n",
    "\n",
    "$$\n",
    "\\frac{1}{h^2}\n",
    "\\begin{bmatrix}\n",
    "-2 & 1 & 0 & \\dots & 0 \\\\\n",
    "0 & 1 & -2 & \\dots & 0 \\\\\n",
    "0 & 0 & 1 & \\dots & 0 \\\\\n",
    "\\vdots & \\vdots & \\vdots & \\ddots & \\vdots \\\\\n",
    "0 & 0 & \\dots & 1 & -2 \n",
    "\\end{bmatrix}\n",
    "\\begin{bmatrix}\n",
    "x_1 \\\\\n",
    "x_2 \\\\\n",
    "x_3 \\\\\n",
    "\\vdots \\\\\n",
    "x_n\n",
    "\\end{bmatrix}\n",
    "= \n",
    "\\begin{bmatrix}\n",
    "g(x_1) - u(0) \\\\\n",
    "g(x_2) \\\\\n",
    "g(x_3) \\\\\n",
    "\\vdots \\\\\n",
    "g(x_n) - u(1)\n",
    "\\end{bmatrix}\n",
    "$$\n",
    "\n",
    "This Tri-diagonal Matrix is the Differentiation Matrix.\n",
    "\n",
    "### (r) Spectral Differentiation Matrix (Matrices)\n",
    "This matrix is similar to the Differentiation Matrix, but we now discretize derivatives with some \"basis function\" for example discretize a function using a sum of sines and cosines called Fourier Transform, his discretized form DFT (Discrete Fourier Transform) or his computionally faster equivalent the FFT (Fast Fourier Transform).\n",
    "\n",
    "### (s) Chebyshev Differentitation Matrix (Matrices)\n",
    "A particular case of FFT is to use Chebyshev points to approximate a function and get rid of some errors like the Runge's Phenomenon (Oscilation in the edges of an interpolated function). The use of Chebyshev points in the FFT gives a new matrix called Chebushev Differentiation Matrix. "
   ]
  },
  {
   "cell_type": "markdown",
   "metadata": {},
   "source": [
    "## Question II\n",
    "Let $H_n$ the $n\\times n$ Hilbert Matrix. This are Symmetric and Positive definite matrices, given that properties we can use Cholesky Decomposition ($A = RR^T$). \n",
    "\n",
    "We define a linear system $H_n x = b$, using $b = H_n  1_n$ and $1_n$ is a vector with $n$ ones. We know the solution but we want to see how is the solution using Cholesky and scipy.linalg.solve (uses LU decomposition)."
   ]
  },
  {
   "cell_type": "code",
   "execution_count": 282,
   "metadata": {
    "scrolled": false
   },
   "outputs": [
    {
     "data": {
      "image/png": "[encoded data removed]",
      "text/plain": [
       "<matplotlib.figure.Figure at 0x7f5d4dfef4e0>"
      ]
     },
     "metadata": {},
     "output_type": "display_data"
    }
   ],
   "source": [
    "cholesky_err = []\n",
    "solve_err = []\n",
    "n_range = range(3,20)\n",
    "condition_numbers=[]\n",
    "for n in n_range:\n",
    "    A = splin.hilbert(n)\n",
    "    b = np.dot(A,np.ones(n))\n",
    "\n",
    "    K = np.linalg.cond(A)\n",
    "    condition_numbers.append(K)\n",
    "    #Solve\n",
    "    x = splin.solve(A,b)\n",
    "    solve_err.append(np.linalg.norm(x-np.ones(n)))\n",
    "    \n",
    "    try:\n",
    "        #Cholesky Decomposition\n",
    "        R = splin.cho_factor(A)\n",
    "        x = splin.cho_solve(R,b)\n",
    "        cholesky_err.append(np.linalg.norm(x-np.ones(n)))\n",
    "    except:\n",
    "        cholesky_err.append(float(\"inf\"))\n",
    "        \n",
    "fig,(ax1,ax2)=plt.subplots(2,1,figsize=(20,10),sharex=True)\n",
    "ax1.plot(n_range, cholesky_err, \"\")\n",
    "ax1.plot(n_range,solve_err, \"--\")\n",
    "ax1.legend([\"Cholesky Decomposition\", \"scipy.linalg.solve\", \"GMRES\"])\n",
    "ax1.set_xlabel(\"$n$\")\n",
    "ax1.set_ylabel(\"$Error = |x - \\hat{x}|$\")\n",
    "ax1.set_title(\"Error vs n\")\n",
    "\n",
    "ax2.scatter(n_range,condition_numbers)\n",
    "ax2.set_ylabel(\"$log(\\kappa)$\")\n",
    "ax2.set_xlabel(\"$n$\")\n",
    "ax2.set_yscale(\"log\")\n",
    "ax2.set_title(\"Condition Number ($\\kappa$) vs n\")\n",
    "plt.show()\n"
   ]
  },
  {
   "cell_type": "markdown",
   "metadata": {},
   "source": [
    "**a)** We can see when $n$ gets bigger the error $|x - \\hat{x}|$ gets bigger with both Cholesky and scipy.linalg.solve, also we can see that the condition number $\\kappa$ gets bigger really fast.\n",
    "\n",
    "With the Cholesky Factorization we get that the Matrix is getting singular using floating point representation.\n",
    "\n",
    "In theory we can't get a good approximation to $x$ because the error is bounded between\n",
    "\n",
    "$$ \\frac{1}{\\kappa(H_n)} \\frac{||b - H_n ||}{||b||}  \\leq \\frac{||x - \\hat{x}||}{||x||} \\leq \\kappa(H_n) \\frac{||b - H_n ||}{||b||} $$\n",
    "\n",
    "The algorithm stopped because $\\frac{||b - H_n ||}{||b||}$ is the lowest that can be found but the approximation is not good because the condition number is really big.\n",
    "\n",
    "**b)** To get a better solution we can try to lower the condition number $\\kappa$ using a Preconditioner Matrix $M$ to the linear system.\n",
    "$$ M^{-1} A = M^{-1} b$$ \n",
    "Where $\\kappa(M^{-1}A) << \\kappa(A)$\n"
   ]
  },
  {
   "cell_type": "markdown",
   "metadata": {},
   "source": [
    "## Question III\n",
    "\n",
    "Solving a quadratic equation $ax^2 + bx + c = 0$ is a simple task if $a,b,c$ are comparable numerically, the most common approach is to use \n",
    "$$ x_\\pm = \\frac{-b \\pm \\sqrt{b^2 - 4ac}}{2a}$$\n",
    "\n",
    "**a)** A simple implementation of this equation will be"
   ]
  },
  {
   "cell_type": "code",
   "execution_count": 283,
   "metadata": {
    "collapsed": true
   },
   "outputs": [],
   "source": [
    "def quadratic_roots(a,b,c):\n",
    "    a = float(a)\n",
    "    b = float(b)\n",
    "    c = float(c)\n",
    "    if a == 0:\n",
    "        raise ValueError(\"a can't be 0\")\n",
    "    \n",
    "    sqrt= np.sqrt(b**2 - 4 * a * c)\n",
    "    roots = np.array([-b-sqrt,-b+sqrt])\n",
    "    return np.array(roots/(2*a))"
   ]
  },
  {
   "cell_type": "markdown",
   "metadata": {},
   "source": [
    "But what happend if $a,b,c$ are not comparable? "
   ]
  },
  {
   "cell_type": "code",
   "execution_count": 284,
   "metadata": {},
   "outputs": [
    {
     "name": "stdout",
     "output_type": "stream",
     "text": [
      "First Root:  -500000000.0\n",
      "Second Root:  0.0\n"
     ]
    }
   ],
   "source": [
    "x1,x2 = quadratic_roots(2,10**9,1)\n",
    "print(\"First Root: \",x1)\n",
    "print(\"Second Root: \",x2)"
   ]
  },
  {
   "cell_type": "markdown",
   "metadata": {},
   "source": [
    "**b)** With this we get two solutions, we get one root really big and the other one is $0$, this means that the equation used asuume that the first two terms are comparable and the third is really small, so the equation solves $2x^2 + 10^9x = 0$ but we have lost one solution with that assumption.\n",
    "\n",
    "**c)** If we consider that $x \\neq 0$ we can divide the whole equation \n",
    "$$ a + \\frac{b}{x} + \\frac{c}{x^2} = 0$$\n",
    "If $x$ is really small the second and third terms will be comparable, if we try to derive an equation similar to the previous we get the *Citardauq Formula*\n",
    "$$ x_\\pm = \\frac{2c}{-b \\pm \\sqrt{b^2-4ac}} $$\n",
    "\n",
    "Combining the two equations we can get the \"big\" solution and the \"small\" solution knowing that $x_1 + x_2 = \\frac{-b}{a}$ and $x_1 x_2 = \\frac{c}{a}$.\n",
    "\n",
    "**d)** Implementing this code we get"
   ]
  },
  {
   "cell_type": "code",
   "execution_count": 285,
   "metadata": {
    "collapsed": true
   },
   "outputs": [],
   "source": [
    "def root_finder(a,b,c):\n",
    "    #Naive quaratic\n",
    "    x1_1,x2_1 = quadratic_roots(a,b,c)\n",
    "    \n",
    "    #Citardauq results\n",
    "    sqrt = np.sqrt(b**2 - 4*a*c)\n",
    "    x1_2 = 2*c / (-b - sqrt)\n",
    "    x2_2 = 2*c / (-b * sqrt)\n",
    "\n",
    "    possible = []\n",
    "    \n",
    "    for x1 in [x1_1,x1_2,x2_1,x2_2]:\n",
    "        for x2 in [x1_1,x1_2,x2_1,x2_2]:\n",
    "            if x1 != x2:\n",
    "                possible.append((x1,x2))\n",
    "    \n",
    "    for roots in possible:\n",
    "        x1 = roots[0]\n",
    "        x2 = roots[1]\n",
    "        if np.isclose(x1+x2, -b/a) and  np.isclose(x1*x2, c/a):\n",
    "            return (x1,x2)"
   ]
  },
  {
   "cell_type": "code",
   "execution_count": 286,
   "metadata": {
    "scrolled": true
   },
   "outputs": [
    {
     "name": "stdout",
     "output_type": "stream",
     "text": [
      "Big Root:  -500000000.0\n",
      "Small Root:  -1e-09\n"
     ]
    }
   ],
   "source": [
    "x1,x2=root_finder(2,10**9,1)\n",
    "print(\"Big Root: \",x1)\n",
    "print(\"Small Root: \",x2)"
   ]
  },
  {
   "cell_type": "markdown",
   "metadata": {},
   "source": [
    "Both are roots of the equation, each one with different assumptions but both are valid solutions."
   ]
  },
  {
   "cell_type": "markdown",
   "metadata": {},
   "source": [
    "## Question IV\n",
    "A real number $r$ is a fix-point of the function $g(x)$ if $g(x) = r$. This notion is useful for example to find roots of certain functions, using a simple algorithm called Fixed Point Iteration.\n",
    "\n",
    "**Question 1.**\n",
    "\n",
    "Given a close interval $[a,b]$ a continuosly differentiable function $g(x)$ satisfying $|g'(x)| < 1$ converges to a single fixed point $r$.\n",
    "\n",
    "To prove that we suppose that we have two fixed points $a \\leq r_1 < r_2 \\leq b$ and we have an $1 > \\alpha > 0$ that follows $$|g'(x)| \\leq \\alpha < 1$$\n",
    "\n",
    "The convergence (error) follows the inequality\n",
    "\n",
    "$$\\left|x_n - r\\right| = \\left|g(x_{n-1}) - r \\right| \\leq \\alpha \\left| g(x_{n-1}) - r\\right| \\leq \\alpha^2 \\left| g(x_{n-2}) - r\\right| \\leq \\dots \\leq \\alpha^n \\left| x_0 - r\\right| \\rightarrow 0$$\n",
    "\n",
    "So the convergence of $|x_n - r|$ tends to $0$. Using $r_1$ as $x_n$ and $r_2$ as $r$\n",
    "$$\\left| r_1 - r_2 \\right|  = \\left| g(r_1) - g(r_2) \\right| \\leq \\alpha |r_1 - r_2| < |r_1 - r_2| $$\n",
    "We need that $|r_1 - r_2| = 0 $ so $r_1 = r_2$ and we have an unique fixed point.\n",
    "\n",
    "**Reference:** [Lecture 8 : Fixed Point Iteration Method, Newton’s Method](http://home.iitk.ac.in/~psraj/mth101/lecture_notes/lecture8.pdf)\n",
    "\n",
    "**Question 2.**\n",
    "\n",
    "Given a function $f(x)$ we want to find the roots of the equation $f(x) = 0$ using Fixed Point Iteration.\n",
    "1. The first approach is to sum x in both parts\n",
    "    $$ f(x) + x = x$$\n",
    "    This gives us the function $g(x) = f(x) + x$\n",
    "2. Another useful way to create an Fixed Point Iteration Function is\n",
    "    \\begin{align}\n",
    "        f(x) & = 0 , \\ \\ / ()^{-1}\\\\\n",
    "        \\frac{1}{f(x)} &= 0  \\ \\ / +x\\\\\n",
    "        \\frac{1}{f(x)} + x = x \n",
    "    \\end{align}\n",
    "    The function used for fixed point iteration will be $g(x) = \\frac{1}{f(x)} + x$\n",
    "3. Other algorithm can be created using the derivative of the function\n",
    "    \\begin{align}\n",
    "        f(x) & = 0 , \\ \\ / \\frac{d}{dx}\\\\\n",
    "        f'(x) &= 0  \\ \\ / +x\\\\\n",
    "        f'(x) + x = x \n",
    "    \\end{align}\n",
    "    So $g(x) = f'(x) + x$\n",
    "\n",
    "In this three $g(x)$ we sum $x$ in both parts to have a Fixed Point Iteration because we want generic algorithms, but depending on $f(x)$ we can factorize the $x$ variable or move a constant to the other side and multiply by $x$.\n",
    "\n",
    "This three algorithms needs that $|g(x)| < 1$, $\\forall x$ to converge.\n",
    "\n",
    "**Question 3.**\n",
    "Given the function $x^3 + x = 1$ we need to create a Fixed Point Iteration to find the roots. Calculating the exact root we get only one real root $x_0 \\approx 0.68233$, the idea is to have a fixed point on that root.\n",
    "1. If we substract $x^3$ on both sides we get $$x = 1 - x^3$$ This has the form of $x = g(x)$, therefore we can use Fixed Point Iteration, but if we derivate and evaluate in the supposed fixed point we see that FPI will not converge \n",
    "    \\begin{align}\n",
    "    g'(x) &= -3x^2 \\\\\n",
    "    |g'(x_0)| &= 1.33 > 1\n",
    "    \\end{align}\n",
    "\n",
    "2. Other possible Fixed Point Iteration for the equation could be\n",
    "    \\begin{align}\n",
    "        x^3 + x &= 1  & / \\frac{1}{x} \\text{ with } x\\neq 0\\\\\n",
    "        x^2 + 1 &= \\frac{1}{x} & / ()^{-1} \\\\\n",
    "        \\frac{1}{x^2 + 1} &= x &\n",
    "    \\end{align}\n",
    "    With $g'(x) = -\\frac{2x}{(x^2 + 1)^2}$, $|g'(x_0)| = 0.63 < 1$, this method will converge to $x_0$.\n",
    "   \n",
    "If we test both implementations we can see that the theory is correct."
   ]
  },
  {
   "cell_type": "code",
   "execution_count": 330,
   "metadata": {
    "collapsed": true
   },
   "outputs": [],
   "source": [
    "def FPI(f):\n",
    "    converge = True\n",
    "    x = 1\n",
    "    count = 0\n",
    "    while not np.isclose(x,f(x)):\n",
    "        x = f(x)\n",
    "\n",
    "        count = count + 1\n",
    "        if count == 1e5:\n",
    "            converge = False\n",
    "            break\n",
    "    return(x, converge)  "
   ]
  },
  {
   "cell_type": "code",
   "execution_count": 333,
   "metadata": {},
   "outputs": [
    {
     "name": "stdout",
     "output_type": "stream",
     "text": [
      "Root Finded: 1 Converged?:No\n"
     ]
    }
   ],
   "source": [
    "# First Implementation\n",
    "def g(x): \n",
    "    return 1 - x**3\n",
    "x, converge = FPI(g)\n",
    "print(\"Root Finded: {}, Converged?:{}\".format(x,\"Yes\" if converge else \"No\"))"
   ]
  },
  {
   "cell_type": "code",
   "execution_count": 334,
   "metadata": {
    "scrolled": true
   },
   "outputs": [
    {
     "name": "stdout",
     "output_type": "stream",
     "text": [
      "Root Finded: 0.6823244257194677, Converged?:Yes\n"
     ]
    }
   ],
   "source": [
    "#Second Implementation\n",
    "def h(x):\n",
    "    return 1./(x**2+1)\n",
    "x, converge = FPI(h)\n",
    "print(\"Root Finded: {}, Converged?:{}\".format(x,\"Yes\" if converge else \"No\"))"
   ]
  },
  {
   "cell_type": "markdown",
   "metadata": {},
   "source": [
    "**Question 4.**\n",
    "\n",
    "Let $f(x)$ with $f(r)=0$ and $f'(x)\\neq 0$, the Newton's method is defined as\n",
    "\n",
    "$$ x_{n+1} = x_{n} - \\frac{f(x_n)}{f'(x_n)} $$\n",
    "\n",
    "To prove that this method has quadratic convergence we know the n-th error is $e_n = r - x_n$ so\n",
    "\\begin{align}\n",
    "    f(r) &= 0 \\\\\n",
    "    f(x_n + e_n) &= 0 \\\\\n",
    "\\end{align}\n",
    "Now we can make a Taylor expansion of $f(x_n + e_n)$\n",
    "$$ f(x_n + e_n) = f(x_n) + e_n f'(x_n) + e^2 \\frac{f''(x_n)}{2} + O(e^3) = 0$$\n",
    "Dividing by $f'(x_n) \\neq 0$ we may write the equation as\n",
    "\\begin{align}\n",
    "&f(x_n) + e_n f'(x_n) + e^2 \\frac{f''(x_n)}{2} + O(e^3) = 0 \\\\\n",
    "&- \\frac{f(x_n)}{f'(x_n)} = e_n + e^2 \\frac{f''(x_n)}{2f'(x_n)} + O(e^3)\n",
    "\\end{align}\n",
    "\n",
    "Now we can calculate the error in the next iteration $x_{n+1}$\n",
    "\\begin{align}\n",
    "    e_{n+1} &= r - x_{n+1} = r - x_n - \\left(- \\frac{f(x_n)}{f'(x_n)} \\right)\\\\\n",
    "    e_{n+1} &= e_n  - \\left( e_n + e^2 \\frac{f''(x_n)}{2} + O(e^3) \\right) \\\\\n",
    "    e_{n+1} &= e_n^2 \\frac{f''(x_n)}{2 f'(x_n)} - O(e^3)\n",
    "\\end{align}\n",
    "\n",
    "We have that \n",
    "$$\\left|e_{n+1}\\right| \\rightarrow \\left|\\frac{f''(x_n)}{2f'(x_n)}\\right|\\left|e_{n}\\right|^2 = C\\left|e_{n}\\right|^2 $$\n",
    "The term $\\left|e_{n}\\right|^2$ says to us that Newton's Method has quadratic convergence when $f'(x) \\neq 0$\n",
    "\n",
    "**Reference**: [Newton's Convergence](http://cavern.uark.edu/~arnold/4363/Newtons.pdf)\n",
    "\n",
    "**Question 5.**\n",
    "\n",
    "Newton's Method converges linearly if the function $f(x)$ has a root with multplicity $m > 1$.\n",
    "\n",
    "To solve this we can use a modified version of Newton's Method\n",
    "$$ x_{n+1} = x_n - m \\frac{f(x_n)}{f'(x_m)} $$\n",
    "Where $m$ is the root multiplicity.\n",
    "\n",
    "**Reference**: [Multiplicity](http://homepage.divms.uiowa.edu/~atkinson/ftp/ENA_Materials/Overheads/sec_3-5.pdf)"
   ]
  },
  {
   "cell_type": "markdown",
   "metadata": {
    "collapsed": true
   },
   "source": [
    "## Question V\n",
    "Given a set of points $(x,f(x))$ a Lagrange Interpolation create an polinomial using the points as fixed points.\n",
    "\n",
    "Let $(x_i,y_i), i=1\\dots k$ the known points\n",
    "\n",
    "$$ L(x) = \\displaystyle \\sum_{j=0}^{k} y_j \\mathcal{l}_j(x)$$\n",
    "\n",
    "Where \n",
    "\n",
    "$$ \\mathcal{l}_j(x) = \\displaystyle \\prod_{i \\neq j} \\frac{x - x_i}{x_j - x_i} $$\n",
    "\n",
    "Implementing this Interpolation method in Sympy we have"
   ]
  },
  {
   "cell_type": "code",
   "execution_count": 288,
   "metadata": {
    "collapsed": true
   },
   "outputs": [],
   "source": [
    "def create_l(x,points,j):\n",
    "    l = 1\n",
    "    for i in range(len(points)):\n",
    "        if i != j:\n",
    "            l *= (x-points[i][0])/(points[j][0] - points[i][0])\n",
    "    return l\n",
    "\n",
    "\n",
    "def lagrange_interpolation(points):\n",
    "    x = sm.symbols(\"x\")\n",
    "    L = 0\n",
    "    for j in range(len(points)):\n",
    "        y = points[j][1]\n",
    "        l = create_l(x,points,j)\n",
    "        L += y*l\n",
    "    return sm.simplify(L)"
   ]
  },
  {
   "cell_type": "markdown",
   "metadata": {},
   "source": [
    "**a)** Using $(0,1),(1,2),(2,4)$ we have"
   ]
  },
  {
   "cell_type": "code",
   "execution_count": 289,
   "metadata": {
    "scrolled": false
   },
   "outputs": [
    {
     "data": {
      "image/png": "[encoded data removed]",
      "text/plain": [
       "<matplotlib.figure.Figure at 0x7f5d416feb00>"
      ]
     },
     "metadata": {},
     "output_type": "display_data"
    },
    {
     "name": "stdout",
     "output_type": "stream",
     "text": [
      "Function: \n"
     ]
    },
    {
     "data": {
      "image/png": "[encoded data removed]",
      "text/latex": [
       "$$\\frac{x^{2}}{2} + \\frac{x}{2} + 1$$"
      ],
      "text/plain": [
       " 2        \n",
       "x    x    \n",
       "── + ─ + 1\n",
       "2    2    "
      ]
     },
     "execution_count": 289,
     "metadata": {},
     "output_type": "execute_result"
    }
   ],
   "source": [
    "a_points = [(0,1),(1,2),(2,4)]\n",
    "a_x = [0,1,2]\n",
    "a_y = [1,2,4]\n",
    "f_sym = lagrange_interpolation(a_points)\n",
    "f = lambda x :f_sym.evalf(subs={\"x\":x})\n",
    "x_plot = np.linspace(-1,3,20)\n",
    "y_plot = list(map(f,x_plot))\n",
    "\n",
    "plt.plot(a_x,a_y,\"r*\")\n",
    "plt.plot(x_plot,y_plot)\n",
    "plt.show()\n",
    "\n",
    "print(\"Function: \",)\n",
    "f_sym"
   ]
  },
  {
   "cell_type": "markdown",
   "metadata": {},
   "source": [
    "In this case we have a second degree polynomial. "
   ]
  },
  {
   "cell_type": "markdown",
   "metadata": {},
   "source": [
    "**b)** Using $(0,1),(1,2),(2,3)$ we have"
   ]
  },
  {
   "cell_type": "code",
   "execution_count": 290,
   "metadata": {
    "scrolled": false
   },
   "outputs": [
    {
     "data": {
      "image/png": "[encoded data removed]",
      "text/plain": [
       "<matplotlib.figure.Figure at 0x7f5d41a3c1d0>"
      ]
     },
     "metadata": {},
     "output_type": "display_data"
    },
    {
     "name": "stdout",
     "output_type": "stream",
     "text": [
      "Function: \n"
     ]
    },
    {
     "data": {
      "image/png": "[encoded data removed]",
      "text/latex": [
       "$$x + 1$$"
      ],
      "text/plain": [
       "x + 1"
      ]
     },
     "execution_count": 290,
     "metadata": {},
     "output_type": "execute_result"
    }
   ],
   "source": [
    "b_points = [(0,1),(1,2),(2,3)]\n",
    "b_x = [0,1,2]\n",
    "b_y = [1,2,3]\n",
    "f_sym=lagrange_interpolation(b_points)\n",
    "f = lambda x :f_sym.evalf(subs={\"x\":x})\n",
    "x_plot = np.linspace(-1,3,20)\n",
    "y_plot = list(map(f,x_plot))\n",
    "\n",
    "plt.figure(figsize=(5,5))\n",
    "plt.plot(b_x,b_y,\"r*\")\n",
    "plt.plot(x_plot,y_plot)\n",
    "plt.show()\n",
    "print(\"Function: \")\n",
    "f_sym"
   ]
  },
  {
   "cell_type": "markdown",
   "metadata": {},
   "source": [
    "This is a first degree polynomial, this is because the Lagrange Interpolation tries to fit the lowest polynomial with the points given and this points are exactly on a line."
   ]
  },
  {
   "cell_type": "markdown",
   "metadata": {},
   "source": [
    "## Question VI \n",
    "To solve a Boundary Value Problem (BVP) numerically we need to discretize the domain and the derivatives.\n",
    "\n",
    "**a)** For this question we need to solve\n",
    "$$ \\epsilon y''(x) + (1+ \\epsilon) y'(x) + y(x) = 0 \\\\ y(0) = 1 , y(1) = 1 \\\\ 0 < x < 1$$\n",
    "\n",
    "To discretize the domain just divide it in $n$ points where $|x_{i+1} - x_{i}| = h = \\frac{1}{n}$\n",
    "\n",
    "For the derivatives we use finite difference\n",
    "$$ y''(x) \\approx \\frac{w_{i-1}- 2 w_{i} + w_{i+1} }{h^2} $$\n",
    "$$ y'(x) \\approx \\frac{w_{i-1} - w_{i+1}}{2h} $$\n",
    "\n",
    "So the BVP discretized is\n",
    "\n",
    "$$ w_{i-1} \\left(\\epsilon - (1+\\epsilon) \\frac{h}{2}  \\right)  + w_i \\left( h^2 - 2\\epsilon) \\right) + w_{i+1} \\left( \\epsilon + (1+\\epsilon) \\frac{h}{2} \\right) = 0$$\n",
    "For $2 \\leq i \\leq n-1$\n",
    "\n",
    "$$ w_i \\left( h^2 - 2\\epsilon) \\right) + w_{i+1} \\left( \\epsilon + (1+\\epsilon) \\frac{h}{2} \\right) = 0$$\n",
    "For $i = 1$\n",
    "\n",
    "$$ w_{i-1} \\left(\\epsilon - (1+\\epsilon) \\frac{h}{2}  \\right)  + w_i \\left( h^2 - 2\\epsilon) \\right) + \\left( \\epsilon + (1+\\epsilon) \\frac{h}{2} \\right) = 0$$\n",
    "For $i = n$\n",
    "\n",
    "Implemeting this linear system we have"
   ]
  },
  {
   "cell_type": "code",
   "execution_count": 291,
   "metadata": {
    "collapsed": true
   },
   "outputs": [],
   "source": [
    "def create_system(m,epsilon):\n",
    "    h = 1./m\n",
    "    A = sps.csr_matrix((m,m))\n",
    "    b = np.zeros(m)\n",
    "    for i in range(m):\n",
    "        if i == 0:\n",
    "            A[0,0] = (h**2 - 2* epsilon)\n",
    "            A[0,1] = (epsilon + (1+epsilon) * h/2)        \n",
    "        elif i == m-1:\n",
    "            A[i,i-1] = (epsilon - (1+epsilon) * h/2)\n",
    "            A[i,i] = (h**2 - 2*epsilon)\n",
    "            b[i] = - (epsilon + (1+epsilon)*h/2)\n",
    "        else:\n",
    "            A[i, i-1] = (epsilon - (1+epsilon) * h/2)\n",
    "            A[i,i] =  (h**2 - 2*epsilon)\n",
    "            A[i,i+1] = (epsilon + (1+epsilon)*h/2)\n",
    "    return A,b"
   ]
  },
  {
   "cell_type": "markdown",
   "metadata": {},
   "source": [
    "**b)** Given de exact solution is\n",
    "$$ y(x) = \\frac{e^{-x} - e^{\\frac{-x}{\\epsilon}}}{e^{-1} - e^{\\frac{-1}{\\epsilon}}}$$"
   ]
  },
  {
   "cell_type": "code",
   "execution_count": 292,
   "metadata": {
    "collapsed": true
   },
   "outputs": [],
   "source": [
    "def exact_solution(x,epsilon):\n",
    "    return (np.exp(-x) -np.exp((-x)/epsilon)) / (np.exp(-1) - np.exp(-1/epsilon))"
   ]
  },
  {
   "cell_type": "markdown",
   "metadata": {},
   "source": [
    "Using $\\epsilon = 1$"
   ]
  },
  {
   "cell_type": "code",
   "execution_count": 294,
   "metadata": {},
   "outputs": [
    {
     "data": {
      "image/png": "[encoded data removed]",
      "text/plain": [
       "<matplotlib.figure.Figure at 0x7f5d4a85b470>"
      ]
     },
     "metadata": {},
     "output_type": "display_data"
    }
   ],
   "source": [
    "epsilon = 1\n",
    "m = 100\n",
    "\n",
    "A,b = create_system(m,epsilon)\n",
    "x = np.linspace(0,1,m+2)[1:-1]\n",
    "y_hat = spslin.spsolve(A,b)\n",
    "x_exact = np.linspace(0,1,m+4)\n",
    "y_exact = exact_solution(x,epsilon)\n",
    "plt.plot(x,y_hat)\n",
    "plt.plot(x,y_exact,\"--\")\n",
    "plt.legend([\"Approximated\", \"Exact\"])\n",
    "plt.show()"
   ]
  },
  {
   "cell_type": "markdown",
   "metadata": {},
   "source": [
    "In this case the exact solution we have \\frac{0}{0}. But the approximations give us something, thats should not be happend.\n",
    "\n",
    "Now using $\\epsilon = 10^{-3}$"
   ]
  },
  {
   "cell_type": "code",
   "execution_count": 296,
   "metadata": {
    "scrolled": true
   },
   "outputs": [
    {
     "data": {
      "image/png": "[encoded data removed]",
      "text/plain": [
       "<matplotlib.figure.Figure at 0x7f5d41913470>"
      ]
     },
     "metadata": {},
     "output_type": "display_data"
    }
   ],
   "source": [
    "epsilon = 1e-3\n",
    "m = 1000\n",
    "\n",
    "A,b = create_system(m,epsilon)\n",
    "x = np.linspace(0,1,m+2)[1:-1]\n",
    "y_hat = spslin.spsolve(A,b)\n",
    "x_exact = np.linspace(0,1,m+4)\n",
    "y_exact = exact_solution(x,epsilon)\n",
    "plt.plot(x,y_hat)\n",
    "plt.plot(x,y_exact,\"--\")\n",
    "plt.legend([\"Approximated\", \"Exact\"])\n",
    "plt.show()"
   ]
  },
  {
   "cell_type": "markdown",
   "metadata": {},
   "source": [
    "We get a really good approximation to the exact function.\n",
    "\n",
    "Using $\\epsilon = 10^{-4}$"
   ]
  },
  {
   "cell_type": "code",
   "execution_count": 298,
   "metadata": {
    "scrolled": true
   },
   "outputs": [
    {
     "data": {
      "image/png": "[encoded data removed]",
      "text/plain": [
       "<matplotlib.figure.Figure at 0x7f5d41ae1400>"
      ]
     },
     "metadata": {},
     "output_type": "display_data"
    }
   ],
   "source": [
    "epsilon = 1e-4\n",
    "m = 10000\n",
    "\n",
    "A,b = create_system(m,epsilon)\n",
    "x = np.linspace(0,1,m+2)[1:-1]\n",
    "y_hat = spslin.spsolve(A,b)\n",
    "x_exact = np.linspace(0,1,m+4)\n",
    "y_exact = exact_solution(x,epsilon)\n",
    "plt.plot(x,y_hat)\n",
    "plt.plot(x,y_exact,\"--\")\n",
    "plt.legend([\"Approximated\", \"Exact\"])\n",
    "plt.show()"
   ]
  },
  {
   "cell_type": "markdown",
   "metadata": {},
   "source": [
    "With $\\epsilon = 10^{-8}$ we need a really small $h$ to get a good approximation."
   ]
  },
  {
   "cell_type": "code",
   "execution_count": 164,
   "metadata": {},
   "outputs": [
    {
     "data": {
      "text/plain": [
       "<matplotlib.legend.Legend at 0x7f5d41c4d860>"
      ]
     },
     "execution_count": 164,
     "metadata": {},
     "output_type": "execute_result"
    },
    {
     "data": {
      "image/png": "[encoded data removed]",
      "text/plain": [
       "<matplotlib.figure.Figure at 0x7f5d41fad0f0>"
      ]
     },
     "metadata": {},
     "output_type": "display_data"
    }
   ],
   "source": [
    "epsilon = 1e-8\n",
    "m = 10000\n",
    "\n",
    "A,b = create_system(m,epsilon)\n",
    "x = np.linspace(0,1,m+2)[1:-1]\n",
    "y_hat = spslin.spsolve(A,b)\n",
    "x_exact = np.linspace(0,1,m+4)\n",
    "y_exact = exact_solution(x,epsilon)\n",
    "plt.plot(x,y_hat)\n",
    "plt.plot(x,y_exact,\"--\")\n",
    "plt.legend([\"Approximated\", \"Exact\"])\n",
    "plt.show()"
   ]
  },
  {
   "cell_type": "markdown",
   "metadata": {},
   "source": [
    "**c)** This approximation is not valid for all x, only works inside the domain of the problem $[0,1]$\n",
    "\n",
    "**d)** The approximation is accurate for $\\epsilon$ different than 1 and not smaller than $10^{-5}$, for smaller $\\epsilon$ we get a really bad solution. \n",
    "\n",
    "**e)** When $\\epsilon \\rightarrow 0$ the BVP transfom into \n",
    "$$ y'(x) + y(x) = 0$$\n",
    "With $y(0) = 0$ and $y(1) = 1$\n",
    "\n",
    "This BVP could have a solution or not."
   ]
  },
  {
   "cell_type": "markdown",
   "metadata": {},
   "source": [
    "## Question VII\n",
    "Let $X \\in \\mathbb{R}^{m\\times n}$ with $m>>n$. Its Reduced Singular Value Decomposition (RSVD) is $U \\Sigma V^*$.\n",
    "\n",
    "We want to calculate the RSVD of $U \\Sigma V^* (I - v_1 v_1^*)$\n",
    "\n",
    "1. Multiplying the outer terms inside the parenthesis we have $U \\Sigma V^* - (U \\Sigma V^* v_1) v_1^*$\n",
    "1. Let the matrix $V^*$ write as collection of rows $v_i$, $i = 1\\dots n$\n",
    "$$V^* = \\begin{bmatrix}\n",
    "v_1^* \\\\ \\hline \n",
    "v_2^* \\\\ \\hline\n",
    "v_3^* \\\\ \\hline\n",
    "\\vdots \\\\ \\hline\n",
    "v_n^*\n",
    "\\end{bmatrix}\n",
    "$$ \n",
    "Multiplying by $v_1$ and knowing that the vectors $v_i$ , $i = 1 \\dots n$ are orthonormal we have \n",
    "$$V^* v_1 = \\begin{bmatrix}\n",
    "v_1^* v_1 \\\\ \\hline \n",
    "v_2^* v_1 \\\\ \\hline\n",
    "v_3^* v_1 \\\\ \\hline\n",
    "\\vdots \\\\ \\hline\n",
    "v_n^* v_1\n",
    "\\end{bmatrix}\n",
    "= \\begin{bmatrix}\n",
    "1 \\\\  \n",
    "0 \\\\ \n",
    "0 \\\\ \n",
    "\\vdots \\\\ \n",
    "0\n",
    "\\end{bmatrix}\n",
    "$$ \n",
    "Now we can multiply $v_1^*$ \n",
    "$$V^* v_1 v_1^* =\\begin{bmatrix}\n",
    "1 \\\\  \n",
    "0 \\\\ \n",
    "0 \\\\ \n",
    "\\vdots \\\\ \n",
    "0\n",
    "\\end{bmatrix} v_1^*\n",
    "= \n",
    "\\begin{bmatrix}\n",
    "v_1* \\\\  \n",
    "0 \\\\ \n",
    "0 \\\\ \n",
    "\\vdots \\\\ \n",
    "0\n",
    "\\end{bmatrix}\n",
    "$$\n",
    "The matrix $U \\Sigma V^*  (I - v_1 v_1^*)$ has the same vectors en $V^*$ but without the first row.\n",
    "$$U \\Sigma V^* - ( I - v_1 v_1^*) = U \\Sigma \n",
    "\\begin{bmatrix}\n",
    "0 \\\\  \n",
    "v_2^* \\\\ \n",
    "v_3^*\\\\ \n",
    "\\vdots \\\\ \n",
    "v_n^*\n",
    "\\end{bmatrix} $$\n",
    "But that matrix decomposition is not a RSVD, only the Singular Values from $\\Sigma$ can be 0, not the vectors from $V^*$\n",
    "1. Knowing that RSVD can be written as a sum of matrices $X = \\displaystyle \\sum_{i=1}^n \\sigma_i u_i v_i^*$ we can set the Singular Value associated to $v_1^*$ to $\\sigma_1=0$ and we get the same result.  \n",
    "$$U \\Sigma V^* - ( I - v_1 v_1^*) = U \\Sigma \n",
    "\\begin{bmatrix}\n",
    "0 \\\\  \n",
    "v_2^* \\\\ \n",
    "v_3^*\\\\ \n",
    "\\vdots \\\\ \n",
    "v_n^*\n",
    "\\end{bmatrix}\n",
    "= U \n",
    "\\begin{bmatrix}\n",
    "0 & 0 & 0 & \\dots\\\\  \n",
    "0 &\\sigma_2 & 0 & \\dots \\\\ \n",
    "0 & 0 & \\sigma_3 & \\dots\\\\ \n",
    "\\vdots & \\vdots & \\vdots & \\vdots  \\\\ \n",
    "0 & 0 & \\dots & \\sigma_n\n",
    "\\end{bmatrix} V^{*}\n",
    "$$\n",
    "But for RSVD we need to sort the Singular Values from the biggest to the smallest, to do that we can shift the matrices\n",
    "$$\n",
    "\\hat{U} \\hat{\\Sigma} \\hat{V^*}=\n",
    "\\begin{bmatrix}\n",
    "u_2 \\\\ \\hline\n",
    "u_3 \\\\ \\hline\n",
    "\\vdots \\\\ \\hline\n",
    "u_n \\\\ \\hline \n",
    "u_1 \n",
    "\\end{bmatrix}\n",
    "\\begin{bmatrix}\n",
    "0 &\\sigma_2 & 0 & \\dots \\\\ \n",
    "0 & 0 & \\sigma_3 & \\dots\\\\ \n",
    "\\vdots & \\vdots & \\vdots & \\vdots  \\\\ \n",
    "0 & 0 & \\dots & \\sigma_n \\\\\n",
    "0 & 0 & 0 & \\dots\n",
    "\\end{bmatrix}\n",
    "\\begin{bmatrix}\n",
    "v_2^* \\\\ \\hline\n",
    "v_3^* \\\\ \\hline\n",
    "\\vdots \\\\ \\hline\n",
    "v_n^* \\\\ \\hline \n",
    "v_1^* \n",
    "\\end{bmatrix}\n",
    "$$\n",
    "This new decomposition is a RSVD Decomposition."
   ]
  },
  {
   "cell_type": "markdown",
   "metadata": {},
   "source": [
    "## Question VIII\n",
    "Let $X \\in \\mathbb{R}^{m\\times n}$ with $m>>n$ to solve the maximization problem\n",
    "\n",
    "\\begin{aligned}\n",
    "& \\underset{w \\in \\mathbb{R}^n}{\\text{maximize}}\n",
    "& & ||X w ||_2^2 \\\\\n",
    "& \\text{subject to}\n",
    "& & ||w||_2 = 1.\n",
    "\\end{aligned}\n",
    "\n",
    "Using the Singular Value Decomposition (SVD) $X= U \\Sigma V^*$ the norm $||X w ||_2^2$ can be written as $||U \\Sigma V^* w ||_2^2$ knowing that $||w ||_2 = w^* w$ \n",
    "1. The norm of the problem is $$||U \\Sigma V^* w  ||_2 = (U \\Sigma V^* w)^* U \\Sigma V^* w$$\n",
    "2. Knowing that $(U \\Sigma V^* w)^*= w^* V \\Sigma^* U^*$ we get $$|| U \\Sigma V^* w||_2 =  w^* V \\Sigma^* U^* U \\Sigma V^* w$$\n",
    "$U$ is an Unitary matrix so $U^*U = I$, therefore $|| U \\Sigma V^* w||_2 = || \\Sigma V^* w||_2$\n",
    "3. We also know that\n",
    "$$V^* = \\begin{bmatrix}\n",
    "v_1^* \\\\ \\hline \n",
    "v_2^* \\\\ \\hline\n",
    "v_3^* \\\\ \\hline\n",
    "\\vdots \\\\ \\hline\n",
    "v_n^*\n",
    "\\end{bmatrix}\n",
    "$$ \n",
    "and the vectors $v_i^*$ are Orthogonals and Unitary, so we can use one of them to solve the maxization problem.\n",
    "\n",
    "3. Because the diagonal matrix $\\Sigma$ has the Singular Values ordered from biggest to smallest we want to select one of the $v_i^*$ that maximize the norm of $|| X w ||_2$.\n",
    "    1. We need to get the first Singular Value because is the biggest one, so we are looking for\n",
    "        $$\\Sigma V^* w = \\begin{bmatrix}\n",
    "            \\sigma_1 & 0 & 0 & \\dots\\\\  \n",
    "            0 &\\sigma_2 & 0 & \\dots \\\\ \n",
    "            0 & 0 & \\sigma_3 & \\dots\\\\ \n",
    "            \\vdots & \\vdots & \\vdots & \\vdots  \\\\ \n",
    "            0 & 0 & \\dots & 0\n",
    "            \\end{bmatrix} \n",
    "            \\begin{bmatrix}\n",
    "            1 \\\\ \\hline \n",
    "            0 \\\\ \\hline\n",
    "            0 \\\\ \\hline\n",
    "            \\vdots \\\\ \\hline\n",
    "            0\n",
    "            \\end{bmatrix} = \\sigma_1$$\n",
    "    2. From the previous question we prove that \n",
    "      $$V^* v_1 =   \\begin{bmatrix}\n",
    "            1 \\\\ \\hline \n",
    "            0 \\\\ \\hline\n",
    "            0 \\\\ \\hline\n",
    "            \\vdots \\\\ \\hline\n",
    "            0\n",
    "            \\end{bmatrix}$$\n",
    "    3. So to get the first Singular Value we need that $w = v_1$ and that is the solution for our maximization problem."
   ]
  },
  {
   "cell_type": "markdown",
   "metadata": {},
   "source": [
    "## Question IX\n",
    "Similar to *Question VIII*\n",
    "\n",
    "Let $X \\in \\mathbb{R}^{m\\times n}$ with $m>>n$ to solve the maximization problem\n",
    "\n",
    "\\begin{aligned}\n",
    "& \\underset{w \\in \\mathbb{R}^n}{\\text{maximize}}\n",
    "& & ||X (I - v_1 v_1^*) w ||_2^2 \\\\\n",
    "& \\text{subject to}\n",
    "& & ||w||_2 = 1.\n",
    "\\end{aligned}\n",
    "\n",
    "We prove in *Question VII*, that the SVD Decomposition $X (I - v_1 v_1^*) = \\hat{U} \\hat{\\Sigma} \\hat{V^*}$ is the same SVD Decomposition of $X$ but doesn't have the first Singular Value $\\sigma_1$.\n",
    "\n",
    "Using the same process as Question VIII we want to find a vector $w$ that makes $\\hat{\\Sigma} \\hat{V^*} w = \\sigma_2$. If we used the first row from $V^*$ in the previous Question in this case we need to use the first row from $\\hat{V^*}$ to get $\\sigma_2$. As showed in *Question VII* the first row of  $\\hat{V^*}$ is $v_2^*$ so the vector $w$ that maximize our norm is $w = v_2$"
   ]
  },
  {
   "cell_type": "markdown",
   "metadata": {},
   "source": [
    "## Question X "
   ]
  },
  {
   "cell_type": "markdown",
   "metadata": {},
   "source": [
    "## Question XI "
   ]
  },
  {
   "cell_type": "markdown",
   "metadata": {},
   "source": [
    "## Question XII"
   ]
  },
  {
   "cell_type": "markdown",
   "metadata": {},
   "source": [
    "## Question XIII "
   ]
  },
  {
   "cell_type": "markdown",
   "metadata": {},
   "source": [
    "## Question XIV\n",
    "\n",
    "The Laurent expansion has the following form\n",
    "$$ f(z) = \\sum_{i=-\\infty}^\\infty a_n (z-z_0)^n $$\n",
    "And is valid for $|z| < r$ \n",
    "\n",
    "We have the function\n",
    "$$ f(z) = \\frac{1}{(z-1)(z-2)} = \\frac{1}{z-2} - \\frac{1}{z-1}$$\n",
    "\n",
    "\n",
    "**a)** If we create a Larent expansion for each part and then sum them we will obtain the Expansion of the whole function and the valid domain (where the domain of each one overlaps).\n",
    "\n",
    "1. For $f_1(z) = \\frac{1}{z-2}$ we will make a Larent Expansion valid on $|z| < 2$\n",
    "    $$\\frac{1}{z-2} = \\frac{1}{-2 + z} = \\frac{1}{-2 (\\frac{-z}{2} + 1)} =- \\frac{1}{2} \\left(\\frac{1}{1 - \\frac{z}{2}}\\right)$$ \n",
    "    \n",
    "    This can be written as a geometric series\n",
    "    $$- \\frac{1}{2} \\left(\\frac{1}{1 - \\frac{z}{2}}\\right) = -\\frac{1}{2} \\displaystyle  \\sum_{n=0}^\\infty \\left(\\frac{z}{2}\\right)^n = - \\displaystyle \\sum_{n=0}^\\infty \\frac{z^n}{2^{n+1}} $$ \n",
    "    \n",
    "2. For $f_2(z) = - \\frac{1}{z-1}$ we will make a Larent Expansion valid on $|z| > 1$ using the same idea that before\n",
    "    $$-\\frac{1}{z-1} = \\frac{-1}{z(1-\\frac{1}{z})} = -\\frac{1}{z}\\left( \\frac{1}{1 - \\frac{1}{z}} \\right) $$\n",
    "    We get a geometric series \n",
    "    $$ -\\frac{1}{z}\\left( \\frac{1}{1 - \\frac{1}{z}} \\right) = -\\frac{1}{z} \\displaystyle \\sum_{n=0}^\\infty \\left( \\frac{1}{z} \\right)^n = - \\displaystyle \\sum_{n=0}^\\infty \\frac{1}{z^{n+1}} = - \\displaystyle \\sum_{n=1}^\\infty \\frac{1}{z^{n}} $$\n",
    "    \n",
    "If we sum $f_1(z)$ and $f_2(z)$ we get\n",
    "$$ f(z) = - \\displaystyle \\sum_{n=0}^\\infty \\frac{z^n}{2^{n+1}} - \\displaystyle \\sum_{n=1}^\\infty \\frac{1}{z^{n}}$$\n",
    "That's valid on the overlap domain of $f_1(z)$ and $f_2(z)$, $1 < |z| < 2$"
   ]
  },
  {
   "cell_type": "code",
   "execution_count": 342,
   "metadata": {},
   "outputs": [
    {
     "data": {
      "image/png": "[encoded data removed]",
      "text/plain": [
       "<matplotlib.figure.Figure at 0x7f5d419f9e48>"
      ]
     },
     "metadata": {},
     "output_type": "display_data"
    }
   ],
   "source": [
    "from matplotlib.patches import Wedge\n",
    "from matplotlib.collections import PatchCollection\n",
    "fig, ax = plt.subplots(figsize=(5,5))\n",
    "w = Wedge((0,0), 2, 0, 360, width=1)\n",
    "p = PatchCollection([w], cmap=matplotlib.cm.jet, alpha=0.4)\n",
    "\n",
    "ax.add_collection(p)\n",
    "ax.set_xlim((-3,3))\n",
    "ax.set_ylim((-3,3))\n",
    "ax.grid(True)\n",
    "ax.set_title(\"Sketch Domain: 1 < |z| < 2\")\n",
    "plt.show()"
   ]
  },
  {
   "cell_type": "markdown",
   "metadata": {},
   "source": [
    "**b)** For a valid Laurent Expansion for $|z| < 2$ we need $f_1(z)$ valid for $|z| > 2 $ and $f_2(z)$ valid for $|z| > 1$.\n",
    "\n",
    "1. For $f_1(z)$ valid on $|z| > 2$\n",
    "    $$ \\frac{1}{z-2} = \\frac{1}{z(1- \\frac{2}{z})} = \\frac{1}{z} \\left(\\frac{1}{1-\\frac{2}{z}}\\right)$$\n",
    "    Thats can be written as a geometric series \n",
    "    $$ \\frac{1}{z} \\left(\\frac{1}{1-\\frac{2}{z}}\\right) = \\frac{1}{z} \\displaystyle \\sum_{n=0}^\\infty \\left( \\frac{2}{z} \\right)^n = \\displaystyle \\sum_{n=0}^\\infty \\frac{2^n}{z^{n+1}}$$\n",
    "2. We can use the previous expansion for $f_2(z)$\n",
    "\n",
    "We sum both expansions and get the following expression\n",
    "$$ f(z) = \\displaystyle \\sum_{n=0}^\\infty \\frac{2^n}{z^{n+1}} -\\displaystyle \\sum_{n=0}^\\infty \\frac{1}{z^{n+1}} =\\displaystyle \\sum_{n=0}^\\infty \\frac{2^n-1}{z^{n+1}}  $$\n",
    "valid on $|z| > 2$"
   ]
  },
  {
   "cell_type": "code",
   "execution_count": 343,
   "metadata": {},
   "outputs": [
    {
     "data": {
      "image/png": "[encoded data removed]",
      "text/plain": [
       "<matplotlib.figure.Figure at 0x7f5d41db5c88>"
      ]
     },
     "metadata": {},
     "output_type": "display_data"
    }
   ],
   "source": [
    "from matplotlib.patches import Circle\n",
    "from matplotlib.collections import PatchCollection\n",
    "fig, ax = plt.subplots(figsize=(5,5))\n",
    "c = Circle((0,0), 2)\n",
    "p = PatchCollection([c], cmap=matplotlib.cm.jet, alpha=0.4)\n",
    "\n",
    "ax.add_collection(p)\n",
    "ax.set_xlim((-3,3))\n",
    "ax.set_ylim((-3,3))\n",
    "ax.grid(True)\n",
    "ax.set_title(\"Sketch Domain: 1 < |z| < 2\")\n",
    "plt.show()"
   ]
  },
  {
   "cell_type": "markdown",
   "metadata": {},
   "source": [
    "## Question XV\n",
    "\n",
    "Considering the following inner product\n",
    "$$ \\left< p(x),q(x) \\right> = \\displaystyle \\int_{-1}^{1} \\overline{p(x)} q(x) dx $$\n",
    "Let $A = \\left[ \\begin{array}{c|c|c|c|c} 1 & x & x^2 &   \\dots &   x^{n-1}\\end{array} \\right]$ a matrix whose clumns are monomials $x^j$, for $j = 0, \\dots, n-1$. \n",
    "\n",
    "The QR decomposition decompose the matrix A into a product of matrices Q and R $A=QR$, Q being an Orthonormal Matrix and R an upper triangular Matrix. To calculate the QR decomposition for A we need to use GramSchmidt Orthogonalization Process.\n",
    "\n",
    "For $n = 5$ we start defining \n",
    "$$ proj_e a = \\frac{\\left< e,a \\right>}{\\left< e,e \\right>}e$$\n",
    "With  $a$ a column from $A$ and $e$ a column from the orthonormal matrix $Q$, that makes $\\left< e,e\\right>=1$ by construction, so we can define $proj_e a= \\left<e,a \\right> e $  . \n",
    "\n",
    "A GramSchmidt Orthogonalization Process is defined as follows, let $A = \\left[ \\begin{array}{c|c|c|c|c} a_1 & a_2 & a_3 &   \\dots &   a_k\\end{array} \\right]$ \n",
    "\n",
    "\\begin{align}\n",
    "   u_1 &= a_1 , & e_1 = \\frac{u_1}{||u_1||} \\\\\n",
    "   u_2 &= a_2 -  proj_{e_1} a_2  , & e_2 = \\frac{u_2}{||u_2||} \\\\\n",
    "   u_3 &= a_3 -  proj_{e_1} a_3  -  proj_{e_2} a_3 , & e_3 = \\frac{u_3}{||u_3||} \\\\\n",
    "   &\\vdots & \\vdots \\\\\n",
    "    u_k &= a_k-\\sum_{j=1}^{k-1} proj_{e_j} a_k &  e_k = \\frac{u_k}{||u_k||} \n",
    "\\end{align}\n",
    "With $||u_k|| = \\left< u_k , u_k \\right>$ \n",
    "\n",
    "With our orthonormal vectors (basis) we can express each column of $A$ using this basis\n",
    "\\begin{align}\n",
    " \\mathbf{a}_1 &= \\langle\\mathbf{e}_1,\\mathbf{a}_1 \\rangle \\mathbf{e}_1  \\\\\n",
    " \\mathbf{a}_2 &= \\langle\\mathbf{e}_1,\\mathbf{a}_2 \\rangle \\mathbf{e}_1\n",
    "  + \\langle\\mathbf{e}_2,\\mathbf{a}_2 \\rangle \\mathbf{e}_2 \\\\\n",
    " \\mathbf{a}_3 &= \\langle\\mathbf{e}_1,\\mathbf{a}_3 \\rangle \\mathbf{e}_1\n",
    "  + \\langle\\mathbf{e}_2,\\mathbf{a}_3 \\rangle \\mathbf{e}_2\n",
    "  + \\langle\\mathbf{e}_3,\\mathbf{a}_3 \\rangle \\mathbf{e}_3 \\\\\n",
    " &\\vdots \\\\\n",
    " \\mathbf{a}_k &= \\sum_{j=1}^{k} \\langle \\mathbf{e}_j, \\mathbf{a}_k \\rangle \\mathbf{e}_j\n",
    "\\end{align}\n",
    "This can be written in matrix form\n",
    "\n",
    "$$ A = QR = {\\displaystyle \\left[\\mathbf {e} _{1},\\cdots ,\\mathbf {e} _{n}\\right]} {\\displaystyle {\\begin{pmatrix}\\langle \\mathbf {e} _{1},\\mathbf {a} _{1}\\rangle &\\langle \\mathbf {e} _{1},\\mathbf {a} _{2}\\rangle &\\langle \\mathbf {e} _{1},\\mathbf {a} _{3}\\rangle &\\ldots \\\\0&\\langle \\mathbf {e} _{2},\\mathbf {a} _{2}\\rangle &\\langle \\mathbf {e} _{2},\\mathbf {a} _{3}\\rangle &\\ldots \\\\0&0&\\langle \\mathbf {e} _{3},\\mathbf {a} _{3}\\rangle &\\ldots \\\\\\vdots &\\vdots &\\vdots &\\ddots \\end{pmatrix}}.}$$\n",
    "\n",
    "\n",
    "**(a)** Using our matrix of monimials\n",
    "\n",
    "\\begin{align}\n",
    "   u_1 &= 1 , & e_1 = \\frac{u_1}{||u_1||} \\\\\n",
    "   u_2 &= x - \\left< e_1, x \\right>e_1 ,&  e_2 = \\frac{u_2}{||u_2||} \\\\\n",
    "   u_3 &= x^2 - \\left< e_1, x^2 \\right>e_1 - \\left< e_2, x^2 \\right>e_2  ,&  e_3 = \\frac{u_3}{||u_3||} \\\\\n",
    "   u_4 &= x^3 - \\left< e_1, x^3 \\right>r_1 - \\left< e_2, x^3 \\right>e_2 - \\left< e_3, x^3 \\right>e_3 ,&  e_4 = \\frac{u_4}{||u_4||} \\\\\n",
    "   u_5 &= x^4 - \\left< e_1, x^4 \\right>e_1 - \\left< e_2, x^4 \\right>e_2 - \\left< e_3, x^4 \\right>e_3 - \\left< e_4, x^4 \\right>e_4 ,&  e_5 = \\frac{u_5}{||u_5||} \\\\\n",
    "\\end{align}\n",
    "\n"
   ]
  },
  {
   "cell_type": "code",
   "execution_count": null,
   "metadata": {
    "collapsed": true
   },
   "outputs": [],
   "source": []
  },
  {
   "cell_type": "markdown",
   "metadata": {},
   "source": [
    "With this functions $e_k(x)$ we have a basis to create the functions from the vector $A$ and theorically we can reconstruct any of that function using this basis and the coefficients from matrix R."
   ]
  },
  {
   "cell_type": "markdown",
   "metadata": {
    "collapsed": true
   },
   "source": [
    "## Question XVI\n",
    "\n",
    "Let $f(x) = \\displaystyle\\sum_{i=1}^n \\alpha_i sinc(x-x_i)$ where $sinc(x) = \\frac{sin(x)}{x}$. To calculate the number of operation we can divide the function in parts.\n",
    "\n",
    "1. sinc(x) uses two operations, first the sin and then the division.\n",
    "2. Each term of the summatory is a substraction, a multiplication and a sinc, $4$ operations in total.\n",
    "3. For each function we use $4n$ operations.\n",
    "4. If we call the function $f$ for $m$ points $x_j$, $j = 1 \\dots m$ we have $4nm$ operations."
   ]
  },
  {
   "cell_type": "code",
   "execution_count": 194,
   "metadata": {
    "collapsed": true
   },
   "outputs": [],
   "source": [
    "import time\n",
    "def f(x,points, a):\n",
    "    m = len(x)\n",
    "    n = len(points)\n",
    "    assert(n == len(a))\n",
    "    \n",
    "    res = np.zeros_like(x)\n",
    "    for j in range(m):\n",
    "        for i in range(n):\n",
    "            res[j] += a[i] * np.sinc(x[j]-points[i])\n",
    "    return res"
   ]
  },
  {
   "cell_type": "markdown",
   "metadata": {},
   "source": [
    "Comparing time changing number of function calls"
   ]
  },
  {
   "cell_type": "code",
   "execution_count": 195,
   "metadata": {},
   "outputs": [
    {
     "data": {
      "image/png": "[encoded data removed]",
      "text/plain": [
       "<matplotlib.figure.Figure at 0x7f5d419bcac8>"
      ]
     },
     "metadata": {},
     "output_type": "display_data"
    }
   ],
   "source": [
    "a = np.random.rand(100)\n",
    "points = np.linspace(0,1,100)\n",
    "ms = [200,400,600,800]\n",
    "times = []\n",
    "for m in ms:\n",
    "    x = np.linspace(0,1,m)\n",
    "    t0 = time.time()\n",
    "    res = f(x,points,a)\n",
    "    times.append(time.time()-t0)\n",
    "\n",
    "plt.plot(ms,times)\n",
    "plt.xlabel(\"m\")\n",
    "plt.ylabel(\"Time\")\n",
    "plt.show()"
   ]
  },
  {
   "cell_type": "markdown",
   "metadata": {},
   "source": [
    "Comparing time changing number of points"
   ]
  },
  {
   "cell_type": "code",
   "execution_count": 198,
   "metadata": {},
   "outputs": [
    {
     "data": {
      "image/png": "[encoded data removed]",
      "text/plain": [
       "<matplotlib.figure.Figure at 0x7f5d418e3080>"
      ]
     },
     "metadata": {},
     "output_type": "display_data"
    }
   ],
   "source": [
    "ns = [200,400,600,800]\n",
    "x = np.linspace(0,1,200)\n",
    "times = []\n",
    "for n in ns:\n",
    "    a = np.random.rand(n)\n",
    "    points = np.linspace(0,1,n)\n",
    "    t0 = time.time()\n",
    "    res = f(x,points,a)\n",
    "    times.append(time.time()-t0)\n",
    "\n",
    "plt.plot(ns,times)\n",
    "plt.xlabel(\"n\")\n",
    "plt.ylabel(\"Time\")\n",
    "plt.show()"
   ]
  },
  {
   "cell_type": "markdown",
   "metadata": {},
   "source": [
    "In both plots we see a linear relationship between time and $n$ or $m$ so we can say the algorithm is $O(n)$ and $O(m)$, the total operation calculated theoretically $O(4nm)$ is similar if we fix one parameter $n$ or $m$ giving the experimental results."
   ]
  },
  {
   "cell_type": "markdown",
   "metadata": {},
   "source": [
    "## Question XVII"
   ]
  }
 ],
 "metadata": {
  "anaconda-cloud": {},
  "kernelspec": {
   "display_name": "Python [default]",
   "language": "python",
   "name": "python3"
  },
  "language_info": {
   "codemirror_mode": {
    "name": "ipython",
    "version": 3
   },
   "file_extension": ".py",
   "mimetype": "text/x-python",
   "name": "python",
   "nbconvert_exporter": "python",
   "pygments_lexer": "ipython3",
   "version": "3.5.2"
  }
 },
 "nbformat": 4,
 "nbformat_minor": 2
}

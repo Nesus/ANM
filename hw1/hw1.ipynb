{
 "cells": [
  {
   "cell_type": "code",
   "execution_count": 1,
   "metadata": {},
   "outputs": [],
   "source": [
    "import numpy as np\n",
    "import scipy.linalg as splin\n",
    "import sympy as sm\n",
    "\n",
    "\n",
    "import matplotlib.pyplot as plt\n",
    "%matplotlib inline"
   ]
  },
  {
   "cell_type": "markdown",
   "metadata": {},
   "source": [
    "<!-- Latest compiled and minified CSS -->\n",
    "<link rel=\"stylesheet\" href=\"https://maxcdn.bootstrapcdn.com/bootstrap/3.3.7/css/bootstrap.min.css\" integrity=\"sha384-BVYiiSIFeK1dGmJRAkycuHAHRg32OmUcww7on3RYdg4Va+PmSTsz/K68vbdEjh4u\" crossorigin=\"anonymous\">\n",
    "\n",
    "<!-- Optional theme -->\n",
    "<link rel=\"stylesheet\" href=\"https://maxcdn.bootstrapcdn.com/bootstrap/3.3.7/css/bootstrap-theme.min.css\" integrity=\"sha384-rHyoN1iRsVXV4nD0JutlnGaslCJuC7uwjduW9SVrLvRYooPp2bWYgmgJQIXwl/Sp\" crossorigin=\"anonymous\">\n",
    "\n",
    "<!-- Latest compiled and minified JavaScript -->\n",
    "<script src=\"https://maxcdn.bootstrapcdn.com/bootstrap/3.3.7/js/bootstrap.min.js\" integrity=\"sha384-Tc5IQib027qvyjSMfHjOMaLkfuWVxZxUPnCJA7l2mCWNIpG9mGCD8wGNIcPD7Txa\" crossorigin=\"anonymous\"></script>\n",
    "\n",
    "<style>\n",
    ".list-group-item {\n",
    "    background-color:#FFF2BD;\n",
    "}\n",
    "</style>\n",
    "\n",
    "<div class=\"jumbotron\" style=\"background:#FAF6C0;\">\n",
    "<h1 class=\"page-title\"> INF510 - Homework 1 </h1>\n",
    "<h3> Camilo Valenzuela Carrasco  <font style=\"color:gray;\">201173030-5 </font> </h3>\n",
    "</div>\n",
    "<div class=\"row\">\n",
    "    <div class=\"col-md-6\">\n",
    "        <div class=\"list-group\">\n",
    "          <a href=\"#Question-I\" class=\"list-group-item\"> Question I</a>\n",
    "          <a href=\"#Question-II\" class=\"list-group-item\"> Question II</a>\n",
    "          <a href=\"#Question-III\" class=\"list-group-item\"> Question III</a>\n",
    "          <a href=\"#Question-IV\" class=\"list-group-item\"> Question IV</a>\n",
    "          <a href=\"#Question-V\" class=\"list-group-item\"> Question V</a>\n",
    "          <a href=\"#Question-VI\" class=\"list-group-item\"> Question VI</a>\n",
    "          <a href=\"#Question-VII\" class=\"list-group-item\"> Question VII</a>\n",
    "        </div>\n",
    "    </div>\n",
    "    <div class=\"col-md-6\">\n",
    "        <div class=\"list-group\">\n",
    "          <a href=\"#Question-VIII\" class=\"list-group-item\"> Question VIII</a>\n",
    "          <a href=\"#Question-IX\" class=\"list-group-item\"> Question IX</a>\n",
    "          <a href=\"#Question-X\" class=\"list-group-item\"> Question X</a>\n",
    "          <a href=\"#Question-XI\" class=\"list-group-item\"> Question XI</a>\n",
    "          <a href=\"#Question-XII\" class=\"list-group-item\"> Question XII</a>\n",
    "          <a href=\"#Question-XIII\" class=\"list-group-item\"> Question XIII</a>\n",
    "          <a href=\"#Question-XIV\" class=\"list-group-item\"> Question XIV</a>\n",
    "        </div>\n",
    "    </div>\n",
    "</div>"
   ]
  },
  {
   "cell_type": "markdown",
   "metadata": {},
   "source": [
    "## Question I\n",
    "When trying to solve some kind Matrix problem, for example a linear system $Ax = b$, knowing the structure and some characteristics of the matrix will help to know its properties and help to select for example the best method to solve the problem, and some cases to know if the problem can be solved.\n",
    "\n",
    "### (a) Singular Matrix\n",
    "\n",
    "Generally we want to solve a Matrix System $Ax=b$ for $x$ using $x = A^{-1}b$ where $A^{-1}$ is the inverse matrix of $A$.\n",
    "\n",
    "- A Singular Matrix is not invertible, so we can't calculate the inverse matrix $A^{-1}$.\n",
    "\n",
    "- This type of matrix has determinant $det(A) = 0$, that means one of its eigenvalues is equal to 0.\n",
    "\n",
    "- Is not full rank, $rank(A) \\neq n$, this means some of the matrix columns has a lineal dependency with other column\n",
    "\n",
    "<small><b style=\"color:red;\">Observation:</b> When using numerical Methods we doesn't calculate $A^{-1}$ explicitly</small>\n",
    "### (b) Vandermonde Matrix\n",
    "A Vandermone matrix is a Matrix where each row has a geometric progression.\n",
    "\n",
    "\n",
    "    $$V=\\begin{bmatrix}\n",
    "       1 & \\alpha_{1} & \\alpha_{1}^2 & \\alpha_{1}^3     & \\dots & \\alpha_{1}^{n-1} \\\\ \n",
    "       1 & \\alpha_{2} & \\alpha_{2}^2 & \\alpha_{2}^3     & \\dots & \\alpha_{2}^{n-1} \\\\\n",
    "       \\vdots & \\vdots & \\vdots & \\vdots & \\ddots & \\vdots \\\\\n",
    "       1 & \\alpha_{m} & \\alpha_{m}^2 & \\alpha_{m}^3     & \\dots & \\alpha_{m}^{n-1} \\\\\n",
    "    \\end{bmatrix}$$\n",
    "\n",
    "\n",
    "If we have a Square Vandermone Matrix (m=n) the determinant of the matrix can be calculated as \n",
    "\n",
    "$$det(V) = \\displaystyle \\prod_{1 \\le i \\le j \\leq n} (\\alpha_i - \\alpha_j)$$\n",
    "\n",
    "This matrix is not singular if $\\alpha_i \\neq \\alpha_j, \\ \\forall i\\neq j$, this because the determinant is not equal to 0.\n",
    "\n",
    "\n",
    "### (c) Symmetric Matrix\n",
    "\n",
    "A Symmetric matrix is a real square matrix $A$ where $A = A^T$ if we see each coeficient $a_{ij} = a_{ji}$, the coeficients of the main diagonal doens't need to have any property.\n",
    "\n",
    "\n",
    "   $$ A=\\begin{bmatrix}\n",
    "    \\beta_{1} & \\alpha_{1} & \\alpha_{2} \\\\\n",
    "    \\alpha_{1} & \\beta_{2} & \\alpha_{3} \\\\\n",
    "    \\alpha_{2} & \\alpha_{3} & \\beta_{3} \\\\ \n",
    "    \\end{bmatrix} $$\n",
    "    \n",
    "Some properties of this matrix:\n",
    "- The sum of two Symmetric Matrices is Symmetric.\n",
    "- If a Symmetric Matrix has inverse, it is Symmetric.\n",
    "\n",
    "### (d) Hermitian Matrix\n",
    "\n",
    "An Hermitian Matrix is a Complex Matrix (his coeficients are complex numbers), the most important property of this matrix is that the element i-th row and j-th column is equal to the conjugate of the element from the j-th column and i-th row.\n",
    "\n",
    "\n",
    "    $$ \\alpha_{ij} = \\overline{\\alpha{ji}}$$\n",
    "\n",
    "In matricial form, a Square Matrix $A$ is Hermitian if $A = A^*$ where $A^* = \\overline{A^T}$.\n",
    "\n",
    "Some properties:\n",
    "- The coeficients of the diagonal are real values, because the conjugate of a real number is the same real number.\n",
    "- The sum of two Hermitian matrices is an Hermitian matrix\n",
    "- The inverse of an Hermitian matrix is Hermitian.\n",
    "\n",
    "\n",
    "### (e) Skew-Hermitian Matrix\n",
    "Similar to a Hermitian Matrix a Skew-Hermitian Matrix the coeficients of the matrix are equal to its conjugate transponse coeficients with different sign.\n",
    "\n",
    "    $$\\alpha_{ij} = - \\overline{\\alpha{ji}}$$\n",
    "\n",
    "\n",
    "In matricial form $A = -A^*$.\n",
    "\n",
    "Some properties:\n",
    "- The eigenvalues of this kind of matrices are all imaginary or zero.\n",
    "- All coeficients in the main diagonal are imaginary ($-\\overline{\\alpha i} = \\alpha i$) \n",
    "\n",
    "### (f) Unitary Matrix\n",
    "A complex square matrix U is unitary if\n",
    "    $$ U^* U = I$$\n",
    "Where $I$ is the identity matrix. If U has only real coeficients is called Orthogonal Matrix because each vector is Orthogonal with all the other vectors from the matrix.\n",
    "\n",
    "Some properties:\n",
    "- U is diagonalizable ($U = V\\Lambda V$).\n",
    "- Its determinant is equal to $|det(U)| = 1$\n",
    "- Given $x,y$ vectors and $\\left<x,y\\right>$ its inner product, a unitary matrix mantain this inner product $\\left<Ux,Uy\\right>=\\left<x,y\\right>$.\n",
    "\n",
    "### (g) Jacobian Matrix\n",
    "Given a function $\\mathbf{f}: \\mathbb{R}^n \\rightarrow \\mathbb{R}^m$ a Jacobian Matrix is a matrix with the partial derivatives of $\\mathbf{f}$.\n",
    "\n",
    "\n",
    "\n",
    "$$\n",
    "{\\displaystyle \\mathbf {J} ={\\begin{bmatrix}{\\dfrac {\\partial \\mathbf {f} }{\\partial x_{1}}}&\\cdots &{\\dfrac {\\partial \\mathbf {f} }{\\partial x_{n}}}\\end{bmatrix}}={\\begin{bmatrix}{\\dfrac {\\partial f_{1}}{\\partial x_{1}}}&\\cdots &{\\dfrac {\\partial f_{1}}{\\partial x_{n}}}\\\\\\vdots &\\ddots &\\vdots \\\\{\\dfrac {\\partial f_{m}}{\\partial x_{1}}}&\\cdots &{\\dfrac {\\partial f_{m}}{\\partial x_{n}}}\\end{bmatrix}}}\n",
    "$$\n",
    "\n",
    "Some properties:\n",
    "- If $\\mathbf{f}$ has an inverse function, the Inverse Jacobian Matrix is the Jacobian Matrix of $\\mathbf{f}^{-1}$\n",
    "\n",
    "### (h) Projection Matrix\n",
    "A Projection Matrix is a $n \\times n$ matrix that takes the points from a space $\\mathbb{R}^n$ to a subspace $W$. For example \n",
    "$$ P=\\begin{bmatrix}\n",
    "    0 & 1 \\\\\n",
    "    0 & 1\n",
    "    \\end{bmatrix} $$\n",
    "\n",
    "Takes the points from $(x,y) \\in \\mathbb{R}^2$ and project to the subspace $(y,y)$.\n",
    "\n",
    "Some properties:\n",
    "- P for definition is idenpotent ($P^2 = P$) that means if we apply twice the projection we still get the same result.\n",
    "- P is orthogonal if $P^* = P$\n",
    "\n",
    "### (i) Companion Matrix\n",
    "Given a <font style=\"color:red\">*</font>**monic polinomial** $\\alpha(x) = \\alpha_0 + \\alpha_1 x + \\dots \\alpha_{n-1} x^{n-1} + x^n$. \n",
    "\n",
    "The Companion Matrix is a square matrix $n \\times n$ \n",
    "$$ A=\\begin{bmatrix}\n",
    "    0 & 0 & \\dots & -\\alpha_0 \\\\\n",
    "    1 & 0 & \\dots & -\\alpha_1 \\\\\n",
    "    \\vdots & \\vdots & \\ddots & \\vdots \\\\\n",
    "    0 & 0 & \\dots & 1 & -\\alpha_{n-1}\n",
    "    \\end{bmatrix} $$\n",
    "\n",
    "Using the standard basis $e_i$ a companion Matrix satisfy $Ae_i = e_i+1$. (Standard basis: $e_x = (1,0)$, $e_y=(0,1)$)\n",
    "\n",
    "<small><font style=\"color:red\">*</font> <b>Monic Polinomial:</b> Polinomial where the coefficient of the higher order term is equal to 1</small>\n",
    "\n",
    "### (j) Jacobi Matrix\n",
    "In Linear Algebra a Jacobi Matrix is a square tri-diagonal matrix with real coefficients. \n",
    "\n",
    "$$ A=\\begin{bmatrix}\n",
    "    a_1 & b_1 & 0 & 0 & \\dots &0 \\\\\n",
    "    c_1 & a_2 & b_2 & 0 & \\dots &0\\\\\n",
    "    0 & c_2 & a_3 & b_3 & \\dots &0\\\\\n",
    "    \\vdots & \\vdots & \\vdots & \\vdots & \\ddots & \\vdots\\\\\n",
    "    0 & 0 & 0 & \\dots & c_{n-1} & a_n\n",
    "    \\end{bmatrix} $$\n",
    "Some properties:\n",
    "- If all elements $b_i,c_i$ are non-negative $\\forall i = 1 \\dots n$, and all the principal sub matrices from J are non-negative then J is non-negative.\n",
    "- If $b_i c_i > 0 \\forall i = 1 \\dots n$ then the roots of the characteristic polinomial of J are real and distinct.\n",
    "\n",
    "### (k) Defective Matrix \n",
    "A Defective Matrix is square a matrix that doesn't have $n$ linearly independent eigenvectors, therefore is not diagonalizable.\n",
    "\n",
    "Also this matrices has one or more eigenvalues $\\lambda$ with multiplicity $m > 1$, this come from the same idea that before, doesn't have full-rank.\n",
    "### (l) Toeplitz Matrix\n",
    "A Toeplitz or Diagonal Constant Matrix is a Matrix where each diagonal mantains constant.\n",
    "$$\n",
    "\\begin{bmatrix}\n",
    "a & b & c & d & e \\\\\n",
    "f & a & b & c & d \\\\\n",
    "g & f & a & b & c \\\\\n",
    "h & g & f & a & b \\\\\n",
    "i & h & g & f & a \n",
    "\\end{bmatrix}.\n",
    "$$\n",
    "This kind of matrix doesn't need to be square, but need to be square to have a linear system with the form $Ax=b$. When the matrix $A$ is is Toeplitz is called a Toeplitz System and its has been studied how to solve for its particullary shape.\n",
    "\n",
    "\n",
    "### (m) Circulant Matrix\n",
    "Given a vector $(c_0,c_1,c_2,\\dots,c_n)$ a Circulant Matrix is a special kind of Toeplitz Matrix where the previous defined vector is shifted one position to the right in each row of the matrix\n",
    "\n",
    "$$C={\\begin{bmatrix}c_{0}&c_{{n-1}}&\\dots &c_{{2}}&c_{{1}}\\\\c_{{1}}&c_{0}&c_{{n-1}}&&c_{{2}}\\\\\\vdots &c_{{1}}&c_{0}&\\ddots &\\vdots \\\\c_{{n-2}}&&\\ddots &\\ddots &c_{{n-1}}\\\\c_{{n-1}}&c_{{n-2}}&\\dots &c_{{1}}&c_{0}\\\\\\end{bmatrix}}.$$\n",
    "\n",
    "We can define this kind of matrix with a simple vector, making the matrix space efficient. \n",
    "\n",
    "Some properties:\n",
    "- The normalized eigenvector of this matrix can be expressed with the following\n",
    "$$v_{j}={\\frac  {1}{{\\sqrt  {n}}}}(1,~\\omega _{j},~\\omega _{j}^{2},~\\ldots ,~\\omega _{j}^{{n-1}})^{T},\\quad j=0,1,\\ldots ,n-1,$$\n",
    "where $\\omega _{j}=\\exp \\left({\\tfrac  {2\\pi ij}{n}}\\right)$ are the roots of the unity. \n",
    "\n",
    "\n",
    "### (n) Hankel Matrix\n",
    "A Hankel Matrix is a square matrix similar to a Circulant Matrix but the vector is \"infinite\" so we get a new value in the right side of the matrix in each row. For example:\n",
    "$${\\begin{bmatrix}a&b&c&d&e\\\\b&c&d&e&f\\\\c&d&e&f&g\\\\d&e&f&g&h\\\\e&f&g&h&i\\\\\\end{bmatrix}}.$$\n",
    "We start with $(a,b,c,d,e)$ the second row $(b,c,d,e,f)$ is shifted the $a$ value dissapear and appears $f$.\n",
    "\n",
    "### (o) Hilbert Matrix\n",
    "A Hilbert Matrix is a square matrix where its coefficients follow the equation\n",
    "$$ H_{{ij}}={\\frac  {1}{i+j-1}}.$$\n",
    "For example a $5\\times 5$ Hilbert Matrix :\n",
    "$$H={\\begin{bmatrix}1&{\\frac  {1}{2}}&{\\frac  {1}{3}}&{\\frac  {1}{4}}&{\\frac  {1}{5}}\\\\[4pt]{\\frac  {1}{2}}&{\\frac  {1}{3}}&{\\frac  {1}{4}}&{\\frac  {1}{5}}&{\\frac  {1}{6}}\\\\[4pt]{\\frac  {1}{3}}&{\\frac  {1}{4}}&{\\frac  {1}{5}}&{\\frac  {1}{6}}&{\\frac  {1}{7}}\\\\[4pt]{\\frac  {1}{4}}&{\\frac  {1}{5}}&{\\frac  {1}{6}}&{\\frac  {1}{7}}&{\\frac  {1}{8}}\\\\[4pt]{\\frac  {1}{5}}&{\\frac  {1}{6}}&{\\frac  {1}{7}}&{\\frac  {1}{8}}&{\\frac  {1}{9}}\\end{bmatrix}}.$$\n",
    "\n",
    "Some properties:\n",
    "- Is Symmetric\n",
    "- Positive Definite, invertible.\n",
    "- Ill-Conditioned, this means has a big condition number $\\kappa(H) = ||H^{-1}|| \\ \\ ||H|| = \\frac{|\\lambda_{max}(H)|}{|\\lambda_{min}(H)|}$. The condition number grows $O((1+{\\sqrt  {2}})^{{4n}}/{\\sqrt  {n}})$ making it harder to solve when $n$ is big.\n",
    "\n",
    "\n",
    "### (p) Markov Matrix\n",
    "Markov or Stochastic Matrix describe a probabilitic process called *Markov Chain*, for example we have two states $i,j$ we can define a probability to pass from the state $i$ to $j$ in one step $Pr(j|i) = P_{i,j}$. If we have more states we can define the Markov Matrix to describe that situation as:\n",
    "$${\\displaystyle P=\\left({\\begin{matrix}P_{1,1}&P_{1,2}&\\dots &P_{1,j}&\\dots &P_{1,S}\\\\P_{2,1}&P_{2,2}&\\dots &P_{2,j}&\\dots &P_{2,S}\\\\\\vdots &\\vdots &\\ddots &\\vdots &\\ddots &\\vdots \\\\P_{i,1}&P_{i,2}&\\dots &P_{i,j}&\\dots &P_{i,S}\\\\\\vdots &\\vdots &\\ddots &\\vdots &\\ddots &\\vdots \\\\P_{S,1}&P_{S,2}&\\dots &P_{S,j}&\\dots &P_{S,S}\\\\\\end{matrix}}\\right).}$$\n",
    "\n",
    "Since we need to pass from one state to another the sum of the column must be 1 \n",
    "$${\\displaystyle \\sum _{j=1}^{S}P_{i,j}=1.\\,}$$ \n",
    "mantaining the total probabilty.\n",
    "\n",
    "### (q) Differentiation Matrix (Matrices)"
   ]
  },
  {
   "cell_type": "markdown",
   "metadata": {},
   "source": [
    "## Question II\n"
   ]
  },
  {
   "cell_type": "code",
   "execution_count": 7,
   "metadata": {},
   "outputs": [
    {
     "name": "stdout",
     "output_type": "stream",
     "text": [
      "N:  3\n",
      "Solution Close?:  [ True  True  True] \n",
      "Condition Number:  524.056777586\n",
      "N:  4\n",
      "Solution Close?:  [ True  True  True  True] \n",
      "Condition Number:  15513.7387389\n",
      "N:  5\n",
      "Solution Close?:  [ True  True  True  True  True] \n",
      "Condition Number:  476607.250242\n",
      "N:  6\n",
      "Solution Close?:  [ True  True  True  True  True  True] \n",
      "Condition Number:  14951058.6413\n",
      "N:  7\n",
      "Solution Close?:  [ True  True  True  True  True  True  True] \n",
      "Condition Number:  475367356.377\n",
      "N:  8\n",
      "Solution Close?:  [ True  True  True  True  True  True  True  True] \n",
      "Condition Number:  15257575516.1\n",
      "N:  9\n",
      "Solution Close?:  [ True  True  True  True  True  True  True  True  True] \n",
      "Condition Number:  493153908710.0\n",
      "N:  10\n",
      "Solution Close?:  [ True  True  True False False False False False False False] \n",
      "Condition Number:  1.60244678667e+13\n",
      "N:  11\n",
      "Solution Close?:  [ True  True False False False False False False False False False] \n",
      "Condition Number:  5.22443374827e+14\n",
      "N:  12\n",
      "Solution Close?:  [ True  True False False False False False False False False False False] \n",
      "Condition Number:  1.72846597426e+16\n",
      "N:  13\n",
      "Solution Close?:  [ True False False False False False False False False False False False\n",
      " False] \n",
      "Condition Number:  5.68358298806e+17\n",
      "N:  14\n",
      "Singular Matrix? Condition Number:  4.83799182767e+17\n",
      "N:  15\n",
      "Singular Matrix? Condition Number:  2.77762247058e+17\n",
      "N:  16\n",
      "Singular Matrix? Condition Number:  3.87784488931e+17\n",
      "N:  17\n",
      "Singular Matrix? Condition Number:  4.13229551919e+17\n",
      "N:  18\n",
      "Singular Matrix? Condition Number:  8.65400977367e+17\n",
      "N:  19\n",
      "Singular Matrix? Condition Number:  1.13921731421e+18\n"
     ]
    }
   ],
   "source": [
    "for n in range(3,20):\n",
    "    print(\"N: \",n)\n",
    "    try:\n",
    "        A = splin.hilbert(n)\n",
    "        \n",
    "        K = np.linalg.cond(A)\n",
    "        \n",
    "        #Cholesky Decomposition\n",
    "        R = splin.cho_factor(A)\n",
    "        b = np.dot(A,np.ones(n))\n",
    "        x = splin.cho_solve(R,b)\n",
    "        print(\"Solution Close?: \", np.isclose(x, np.ones_like(x)),\"\\n Condition Number: \",K)\n",
    "    except:\n",
    "        print(\"Singular Matrix? Condition Number: \",K)\n",
    "      \n"
   ]
  },
  {
   "cell_type": "markdown",
   "metadata": {},
   "source": [
    "## {iii}"
   ]
  },
  {
   "cell_type": "code",
   "execution_count": 8,
   "metadata": {
    "collapsed": true
   },
   "outputs": [],
   "source": [
    "def quadratic_roots(a,b,c):\n",
    "    a = float(a)\n",
    "    b = float(b)\n",
    "    c = float(c)\n",
    "    if a == 0:\n",
    "        raise ValueError(\"a can't be 0\")\n",
    "    \n",
    "    sqrt= np.sqrt(b**2 - 4 * a * c)\n",
    "    roots = np.array([-b-sqrt,-b+sqrt])\n",
    "    return np.array(roots/(2*a))"
   ]
  },
  {
   "cell_type": "code",
   "execution_count": 9,
   "metadata": {},
   "outputs": [
    {
     "data": {
      "text/plain": [
       "array([ -5.00000000e+08,   0.00000000e+00])"
      ]
     },
     "execution_count": 9,
     "metadata": {},
     "output_type": "execute_result"
    }
   ],
   "source": [
    "quadratic_roots(2,10**9,1)"
   ]
  },
  {
   "cell_type": "markdown",
   "metadata": {},
   "source": [
    "# Citardauq Formula\n",
    "https://people.csail.mit.edu/bkph/articles/Quadratics.pdf"
   ]
  },
  {
   "cell_type": "code",
   "execution_count": 10,
   "metadata": {},
   "outputs": [],
   "source": [
    "def root_finder(a,b,c):\n",
    "    \n",
    "    x1_1,x2_1 = quadratic_roots(a,b,c)\n",
    "    \n",
    "    #Citardauq results\n",
    "    sqrt = np.sqrt(b**2 - 4*a*c)\n",
    "    x1_2 = 2*c / (-b - sqrt)\n",
    "    x2_2 = 2*c / (-b * sqrt)\n",
    "\n",
    "    possible = []\n",
    "    \n",
    "    for x1 in [x1_1,x1_2,x2_1,x2_2]:\n",
    "        for x2 in [x1_1,x1_2,x2_1,x2_2]:\n",
    "            if x1 != x2:\n",
    "                possible.append((x1,x2))\n",
    "    \n",
    "    for roots in possible:\n",
    "        x1 = roots[0]\n",
    "        x2 = roots[1]\n",
    "        if np.isclose(x1+x2, -b/a) and  np.isclose(x1*x2, c/a):\n",
    "            return (x1,x2)"
   ]
  },
  {
   "cell_type": "code",
   "execution_count": 11,
   "metadata": {
    "scrolled": true
   },
   "outputs": [
    {
     "data": {
      "text/plain": [
       "(-500000000.0, -1.0000000000000001e-09)"
      ]
     },
     "execution_count": 11,
     "metadata": {},
     "output_type": "execute_result"
    }
   ],
   "source": [
    "root_finder(2,10**9,1)"
   ]
  },
  {
   "cell_type": "markdown",
   "metadata": {},
   "source": [
    "## {iv}"
   ]
  },
  {
   "cell_type": "code",
   "execution_count": 21,
   "metadata": {},
   "outputs": [
    {
     "name": "stdout",
     "output_type": "stream",
     "text": [
      "0.682332456026 True\n"
     ]
    }
   ],
   "source": [
    "def g(x): \n",
    "    return 1 - x**3\n",
    "\n",
    "def h(x):\n",
    "    return 1./(x**2+1)\n",
    "\n",
    "def i(x):\n",
    "    return np.sqrt(1./(x+ x**-1))\n",
    "\n",
    "converge = True\n",
    "x = 1\n",
    "count = 0\n",
    "f = i\n",
    "while not np.isclose(x,f(x)):\n",
    "    x = f(x)\n",
    "    \n",
    "    count = count + 1\n",
    "    if count == 1e5:\n",
    "        converge = False\n",
    "        break\n",
    "print(x, converge)"
   ]
  },
  {
   "cell_type": "markdown",
   "metadata": {
    "collapsed": true
   },
   "source": [
    "## {v} "
   ]
  },
  {
   "cell_type": "code",
   "execution_count": 43,
   "metadata": {},
   "outputs": [
    {
     "name": "stdout",
     "output_type": "stream",
     "text": [
      "x**2/2 + x/2 + 1\n",
      "x + 1\n"
     ]
    }
   ],
   "source": [
    "a_points = [(0,1),(1,2),(2,4)]\n",
    "b_points = [(0,1),(1,2),(2,3)]\n",
    "\n",
    "def create_l(x,points,j):\n",
    "    l = 1\n",
    "    for i in range(len(points)):\n",
    "        if i != j:\n",
    "            l *= (x-points[i][0])/(points[j][0] - points[i][0])\n",
    "    return l\n",
    "\n",
    "\n",
    "def lagrange_interpolation(points):\n",
    "    x = sm.symbols(\"x\")\n",
    "    L = 0\n",
    "    for j in range(len(points)):\n",
    "        y = points[j][1]\n",
    "        l = create_l(x,points,j)\n",
    "        L += y*l\n",
    "    return sm.simplify(L)\n",
    "\n",
    "\n",
    "print(lagrange_interpolation(a_points))\n",
    "print(lagrange_interpolation(b_points))\n"
   ]
  },
  {
   "cell_type": "markdown",
   "metadata": {},
   "source": [
    "## {vi} "
   ]
  },
  {
   "cell_type": "code",
   "execution_count": 18,
   "metadata": {},
   "outputs": [],
   "source": [
    "epsilon = 1e-14\n",
    "m = 10000\n",
    "x = np.linspace(0,1,m+2)\n",
    "\n",
    "h = np.abs(x[0] - x[1])\n",
    "A = np.zeros((m,m))\n",
    "b = np.zeros(m)\n",
    "for i in range(m):\n",
    "    if i == 0:\n",
    "        A[0,0] = (h**2 - 2* epsilon)\n",
    "        A[0,1] = (epsilon + (1+epsilon) * h/2)        \n",
    "    elif i == m-1:\n",
    "        A[i,i-1] = (epsilon - (1+epsilon) * h/2)\n",
    "        A[i,i] = (h**2 - 2*epsilon)\n",
    "        b[i] = - (epsilon + (1+epsilon)*h/2)\n",
    "    else:\n",
    "        A[i, i-1] = (epsilon - (1+epsilon) * h/2)\n",
    "        A[i,i] =  (h**2 - 2*epsilon)\n",
    "        A[i,i+1] = (epsilon + (1+epsilon)*h/2)"
   ]
  },
  {
   "cell_type": "code",
   "execution_count": 15,
   "metadata": {},
   "outputs": [],
   "source": [
    "y = np.linalg.solve(A,b)\n",
    "y = np.concatenate([[0],y,[1]])"
   ]
  },
  {
   "cell_type": "code",
   "execution_count": 16,
   "metadata": {},
   "outputs": [
    {
     "data": {
      "text/plain": [
       "[<matplotlib.lines.Line2D at 0x7fbbbbc2ac88>]"
      ]
     },
     "execution_count": 16,
     "metadata": {},
     "output_type": "execute_result"
    },
    {
     "data": {
      "image/png": "[encoded data removed]",
      "text/plain": [
       "<matplotlib.figure.Figure at 0x7fbbbbc47860>"
      ]
     },
     "metadata": {},
     "output_type": "display_data"
    }
   ],
   "source": [
    "plt.plot(x,y)"
   ]
  },
  {
   "cell_type": "code",
   "execution_count": null,
   "metadata": {
    "collapsed": true
   },
   "outputs": [],
   "source": []
  }
 ],
 "metadata": {
  "anaconda-cloud": {},
  "kernelspec": {
   "display_name": "Python [default]",
   "language": "python",
   "name": "python3"
  },
  "language_info": {
   "codemirror_mode": {
    "name": "ipython",
    "version": 3
   },
   "file_extension": ".py",
   "mimetype": "text/x-python",
   "name": "python",
   "nbconvert_exporter": "python",
   "pygments_lexer": "ipython3",
   "version": "3.5.2"
  }
 },
 "nbformat": 4,
 "nbformat_minor": 2
}
